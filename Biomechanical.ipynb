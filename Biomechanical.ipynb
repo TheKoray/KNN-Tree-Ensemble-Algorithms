{
  "nbformat": 4,
  "nbformat_minor": 0,
  "metadata": {
    "colab": {
      "name": "Biomechanical.ipynb",
      "provenance": [],
      "toc_visible": true,
      "authorship_tag": "ABX9TyMHsDPXYkpeVdzIXgEUOKPS",
      "include_colab_link": true
    },
    "kernelspec": {
      "name": "python3",
      "display_name": "Python 3"
    }
  },
  "cells": [
    {
      "cell_type": "markdown",
      "metadata": {
        "id": "view-in-github",
        "colab_type": "text"
      },
      "source": [
        "<a href=\"https://colab.research.google.com/github/TheKoray18/KNN-Tree-Ensemble-Algorithms/blob/main/Biomechanical.ipynb\" target=\"_parent\"><img src=\"https://colab.research.google.com/assets/colab-badge.svg\" alt=\"Open In Colab\"/></a>"
      ]
    },
    {
      "cell_type": "code",
      "metadata": {
        "colab": {
          "base_uri": "https://localhost:8080/"
        },
        "id": "keMmxuMSdFJ_",
        "outputId": "7dc8cc3c-81bd-46f8-d2f1-299b0ecebfa0"
      },
      "source": [
        "from google.colab import drive\r\n",
        "\r\n",
        "drive.mount('/content/drive/')"
      ],
      "execution_count": 1,
      "outputs": [
        {
          "output_type": "stream",
          "text": [
            "Mounted at /content/drive/\n"
          ],
          "name": "stdout"
        }
      ]
    },
    {
      "cell_type": "code",
      "metadata": {
        "id": "PXiPtOQueCV4"
      },
      "source": [
        "import pandas as pd \r\n",
        "\r\n",
        "data = pd.read_csv('/content/drive/My Drive/Colab Notebooks/column_2C_weka.csv')"
      ],
      "execution_count": 2,
      "outputs": []
    },
    {
      "cell_type": "markdown",
      "metadata": {
        "id": "ju5vXlDdmewY"
      },
      "source": [
        "- pelvic_incidence = pelvik insidans\r\n",
        "- pelvic_tilt numeric = pelvik eğim sayısal\r\n",
        "- lumbar_lordosis angle = lomber lordoz açısı\r\n",
        "- sacral_slope = sakral eğim\r\n",
        "- pelvic_radius = pelvik yarıçap\r\n",
        "- degree_spondylolisthesis = spondilolistez derecesi\r\n"
      ]
    },
    {
      "cell_type": "code",
      "metadata": {
        "colab": {
          "base_uri": "https://localhost:8080/",
          "height": 195
        },
        "id": "ls8ibxwCeXLA",
        "outputId": "763a86de-3816-4996-cc32-0e5db15f4377"
      },
      "source": [
        "data.head()"
      ],
      "execution_count": null,
      "outputs": [
        {
          "output_type": "execute_result",
          "data": {
            "text/html": [
              "<div>\n",
              "<style scoped>\n",
              "    .dataframe tbody tr th:only-of-type {\n",
              "        vertical-align: middle;\n",
              "    }\n",
              "\n",
              "    .dataframe tbody tr th {\n",
              "        vertical-align: top;\n",
              "    }\n",
              "\n",
              "    .dataframe thead th {\n",
              "        text-align: right;\n",
              "    }\n",
              "</style>\n",
              "<table border=\"1\" class=\"dataframe\">\n",
              "  <thead>\n",
              "    <tr style=\"text-align: right;\">\n",
              "      <th></th>\n",
              "      <th>pelvic_incidence</th>\n",
              "      <th>pelvic_tilt numeric</th>\n",
              "      <th>lumbar_lordosis_angle</th>\n",
              "      <th>sacral_slope</th>\n",
              "      <th>pelvic_radius</th>\n",
              "      <th>degree_spondylolisthesis</th>\n",
              "      <th>class</th>\n",
              "    </tr>\n",
              "  </thead>\n",
              "  <tbody>\n",
              "    <tr>\n",
              "      <th>0</th>\n",
              "      <td>63.027818</td>\n",
              "      <td>22.552586</td>\n",
              "      <td>39.609117</td>\n",
              "      <td>40.475232</td>\n",
              "      <td>98.672917</td>\n",
              "      <td>-0.254400</td>\n",
              "      <td>Abnormal</td>\n",
              "    </tr>\n",
              "    <tr>\n",
              "      <th>1</th>\n",
              "      <td>39.056951</td>\n",
              "      <td>10.060991</td>\n",
              "      <td>25.015378</td>\n",
              "      <td>28.995960</td>\n",
              "      <td>114.405425</td>\n",
              "      <td>4.564259</td>\n",
              "      <td>Abnormal</td>\n",
              "    </tr>\n",
              "    <tr>\n",
              "      <th>2</th>\n",
              "      <td>68.832021</td>\n",
              "      <td>22.218482</td>\n",
              "      <td>50.092194</td>\n",
              "      <td>46.613539</td>\n",
              "      <td>105.985135</td>\n",
              "      <td>-3.530317</td>\n",
              "      <td>Abnormal</td>\n",
              "    </tr>\n",
              "    <tr>\n",
              "      <th>3</th>\n",
              "      <td>69.297008</td>\n",
              "      <td>24.652878</td>\n",
              "      <td>44.311238</td>\n",
              "      <td>44.644130</td>\n",
              "      <td>101.868495</td>\n",
              "      <td>11.211523</td>\n",
              "      <td>Abnormal</td>\n",
              "    </tr>\n",
              "    <tr>\n",
              "      <th>4</th>\n",
              "      <td>49.712859</td>\n",
              "      <td>9.652075</td>\n",
              "      <td>28.317406</td>\n",
              "      <td>40.060784</td>\n",
              "      <td>108.168725</td>\n",
              "      <td>7.918501</td>\n",
              "      <td>Abnormal</td>\n",
              "    </tr>\n",
              "  </tbody>\n",
              "</table>\n",
              "</div>"
            ],
            "text/plain": [
              "   pelvic_incidence  pelvic_tilt numeric  ...  degree_spondylolisthesis     class\n",
              "0         63.027818            22.552586  ...                 -0.254400  Abnormal\n",
              "1         39.056951            10.060991  ...                  4.564259  Abnormal\n",
              "2         68.832021            22.218482  ...                 -3.530317  Abnormal\n",
              "3         69.297008            24.652878  ...                 11.211523  Abnormal\n",
              "4         49.712859             9.652075  ...                  7.918501  Abnormal\n",
              "\n",
              "[5 rows x 7 columns]"
            ]
          },
          "metadata": {
            "tags": []
          },
          "execution_count": 3
        }
      ]
    },
    {
      "cell_type": "code",
      "metadata": {
        "colab": {
          "base_uri": "https://localhost:8080/",
          "height": 195
        },
        "id": "IqJzvAnkUqsH",
        "outputId": "3c408a71-03ca-4873-a7b8-954eba865aef"
      },
      "source": [
        "data.tail()"
      ],
      "execution_count": null,
      "outputs": [
        {
          "output_type": "execute_result",
          "data": {
            "text/html": [
              "<div>\n",
              "<style scoped>\n",
              "    .dataframe tbody tr th:only-of-type {\n",
              "        vertical-align: middle;\n",
              "    }\n",
              "\n",
              "    .dataframe tbody tr th {\n",
              "        vertical-align: top;\n",
              "    }\n",
              "\n",
              "    .dataframe thead th {\n",
              "        text-align: right;\n",
              "    }\n",
              "</style>\n",
              "<table border=\"1\" class=\"dataframe\">\n",
              "  <thead>\n",
              "    <tr style=\"text-align: right;\">\n",
              "      <th></th>\n",
              "      <th>pelvic_incidence</th>\n",
              "      <th>pelvic_tilt numeric</th>\n",
              "      <th>lumbar_lordosis_angle</th>\n",
              "      <th>sacral_slope</th>\n",
              "      <th>pelvic_radius</th>\n",
              "      <th>degree_spondylolisthesis</th>\n",
              "      <th>class</th>\n",
              "    </tr>\n",
              "  </thead>\n",
              "  <tbody>\n",
              "    <tr>\n",
              "      <th>305</th>\n",
              "      <td>47.903565</td>\n",
              "      <td>13.616688</td>\n",
              "      <td>36.000000</td>\n",
              "      <td>34.286877</td>\n",
              "      <td>117.449062</td>\n",
              "      <td>-4.245395</td>\n",
              "      <td>Normal</td>\n",
              "    </tr>\n",
              "    <tr>\n",
              "      <th>306</th>\n",
              "      <td>53.936748</td>\n",
              "      <td>20.721496</td>\n",
              "      <td>29.220534</td>\n",
              "      <td>33.215251</td>\n",
              "      <td>114.365845</td>\n",
              "      <td>-0.421010</td>\n",
              "      <td>Normal</td>\n",
              "    </tr>\n",
              "    <tr>\n",
              "      <th>307</th>\n",
              "      <td>61.446597</td>\n",
              "      <td>22.694968</td>\n",
              "      <td>46.170347</td>\n",
              "      <td>38.751628</td>\n",
              "      <td>125.670725</td>\n",
              "      <td>-2.707880</td>\n",
              "      <td>Normal</td>\n",
              "    </tr>\n",
              "    <tr>\n",
              "      <th>308</th>\n",
              "      <td>45.252792</td>\n",
              "      <td>8.693157</td>\n",
              "      <td>41.583126</td>\n",
              "      <td>36.559635</td>\n",
              "      <td>118.545842</td>\n",
              "      <td>0.214750</td>\n",
              "      <td>Normal</td>\n",
              "    </tr>\n",
              "    <tr>\n",
              "      <th>309</th>\n",
              "      <td>33.841641</td>\n",
              "      <td>5.073991</td>\n",
              "      <td>36.641233</td>\n",
              "      <td>28.767649</td>\n",
              "      <td>123.945244</td>\n",
              "      <td>-0.199249</td>\n",
              "      <td>Normal</td>\n",
              "    </tr>\n",
              "  </tbody>\n",
              "</table>\n",
              "</div>"
            ],
            "text/plain": [
              "     pelvic_incidence  pelvic_tilt numeric  ...  degree_spondylolisthesis   class\n",
              "305         47.903565            13.616688  ...                 -4.245395  Normal\n",
              "306         53.936748            20.721496  ...                 -0.421010  Normal\n",
              "307         61.446597            22.694968  ...                 -2.707880  Normal\n",
              "308         45.252792             8.693157  ...                  0.214750  Normal\n",
              "309         33.841641             5.073991  ...                 -0.199249  Normal\n",
              "\n",
              "[5 rows x 7 columns]"
            ]
          },
          "metadata": {
            "tags": []
          },
          "execution_count": 4
        }
      ]
    },
    {
      "cell_type": "code",
      "metadata": {
        "colab": {
          "base_uri": "https://localhost:8080/"
        },
        "id": "t5XsEyFZ7V0g",
        "outputId": "3709a2f2-d22c-4048-e9d5-54f8ba2a6630"
      },
      "source": [
        "data.shape"
      ],
      "execution_count": null,
      "outputs": [
        {
          "output_type": "execute_result",
          "data": {
            "text/plain": [
              "(310, 7)"
            ]
          },
          "metadata": {
            "tags": []
          },
          "execution_count": 4
        }
      ]
    },
    {
      "cell_type": "code",
      "metadata": {
        "colab": {
          "base_uri": "https://localhost:8080/"
        },
        "id": "v29I9Ii6Utju",
        "outputId": "1b8500b6-df84-4e80-b4e7-33e376e00e6c"
      },
      "source": [
        "data.info()"
      ],
      "execution_count": null,
      "outputs": [
        {
          "output_type": "stream",
          "text": [
            "<class 'pandas.core.frame.DataFrame'>\n",
            "RangeIndex: 310 entries, 0 to 309\n",
            "Data columns (total 7 columns):\n",
            " #   Column                    Non-Null Count  Dtype  \n",
            "---  ------                    --------------  -----  \n",
            " 0   pelvic_incidence          310 non-null    float64\n",
            " 1   pelvic_tilt numeric       310 non-null    float64\n",
            " 2   lumbar_lordosis_angle     310 non-null    float64\n",
            " 3   sacral_slope              310 non-null    float64\n",
            " 4   pelvic_radius             310 non-null    float64\n",
            " 5   degree_spondylolisthesis  310 non-null    float64\n",
            " 6   class                     310 non-null    object \n",
            "dtypes: float64(6), object(1)\n",
            "memory usage: 17.1+ KB\n"
          ],
          "name": "stdout"
        }
      ]
    },
    {
      "cell_type": "markdown",
      "metadata": {
        "id": "KVScVzc_VPDb"
      },
      "source": [
        "- Değişkenlerimizin sadece tipini görmek istersek \".dtypes\" kullanırız"
      ]
    },
    {
      "cell_type": "code",
      "metadata": {
        "colab": {
          "base_uri": "https://localhost:8080/"
        },
        "id": "jdWPyaH1VDWQ",
        "outputId": "314ae95e-1a9a-4e5b-bdf3-b2952959faf7"
      },
      "source": [
        "data.dtypes"
      ],
      "execution_count": null,
      "outputs": [
        {
          "output_type": "execute_result",
          "data": {
            "text/plain": [
              "pelvic_incidence            float64\n",
              "pelvic_tilt numeric         float64\n",
              "lumbar_lordosis_angle       float64\n",
              "sacral_slope                float64\n",
              "pelvic_radius               float64\n",
              "degree_spondylolisthesis    float64\n",
              "class                        object\n",
              "dtype: object"
            ]
          },
          "metadata": {
            "tags": []
          },
          "execution_count": 5
        }
      ]
    },
    {
      "cell_type": "markdown",
      "metadata": {
        "id": "VGfYxwkwjvjH"
      },
      "source": [
        "- Datamızın betimsel istatistik değerlerine bakalım"
      ]
    },
    {
      "cell_type": "code",
      "metadata": {
        "colab": {
          "base_uri": "https://localhost:8080/",
          "height": 225
        },
        "id": "qM2nr1lj7ddA",
        "outputId": "8e4f6cb2-b446-494a-9185-8ae5fc75119b"
      },
      "source": [
        "data.describe().T"
      ],
      "execution_count": null,
      "outputs": [
        {
          "output_type": "execute_result",
          "data": {
            "text/html": [
              "<div>\n",
              "<style scoped>\n",
              "    .dataframe tbody tr th:only-of-type {\n",
              "        vertical-align: middle;\n",
              "    }\n",
              "\n",
              "    .dataframe tbody tr th {\n",
              "        vertical-align: top;\n",
              "    }\n",
              "\n",
              "    .dataframe thead th {\n",
              "        text-align: right;\n",
              "    }\n",
              "</style>\n",
              "<table border=\"1\" class=\"dataframe\">\n",
              "  <thead>\n",
              "    <tr style=\"text-align: right;\">\n",
              "      <th></th>\n",
              "      <th>count</th>\n",
              "      <th>mean</th>\n",
              "      <th>std</th>\n",
              "      <th>min</th>\n",
              "      <th>25%</th>\n",
              "      <th>50%</th>\n",
              "      <th>75%</th>\n",
              "      <th>max</th>\n",
              "    </tr>\n",
              "  </thead>\n",
              "  <tbody>\n",
              "    <tr>\n",
              "      <th>pelvic_incidence</th>\n",
              "      <td>310.0</td>\n",
              "      <td>60.496653</td>\n",
              "      <td>17.236520</td>\n",
              "      <td>26.147921</td>\n",
              "      <td>46.430294</td>\n",
              "      <td>58.691038</td>\n",
              "      <td>72.877696</td>\n",
              "      <td>129.834041</td>\n",
              "    </tr>\n",
              "    <tr>\n",
              "      <th>pelvic_tilt numeric</th>\n",
              "      <td>310.0</td>\n",
              "      <td>17.542822</td>\n",
              "      <td>10.008330</td>\n",
              "      <td>-6.554948</td>\n",
              "      <td>10.667069</td>\n",
              "      <td>16.357689</td>\n",
              "      <td>22.120395</td>\n",
              "      <td>49.431864</td>\n",
              "    </tr>\n",
              "    <tr>\n",
              "      <th>lumbar_lordosis_angle</th>\n",
              "      <td>310.0</td>\n",
              "      <td>51.930930</td>\n",
              "      <td>18.554064</td>\n",
              "      <td>14.000000</td>\n",
              "      <td>37.000000</td>\n",
              "      <td>49.562398</td>\n",
              "      <td>63.000000</td>\n",
              "      <td>125.742385</td>\n",
              "    </tr>\n",
              "    <tr>\n",
              "      <th>sacral_slope</th>\n",
              "      <td>310.0</td>\n",
              "      <td>42.953831</td>\n",
              "      <td>13.423102</td>\n",
              "      <td>13.366931</td>\n",
              "      <td>33.347122</td>\n",
              "      <td>42.404912</td>\n",
              "      <td>52.695888</td>\n",
              "      <td>121.429566</td>\n",
              "    </tr>\n",
              "    <tr>\n",
              "      <th>pelvic_radius</th>\n",
              "      <td>310.0</td>\n",
              "      <td>117.920655</td>\n",
              "      <td>13.317377</td>\n",
              "      <td>70.082575</td>\n",
              "      <td>110.709196</td>\n",
              "      <td>118.268178</td>\n",
              "      <td>125.467674</td>\n",
              "      <td>163.071041</td>\n",
              "    </tr>\n",
              "    <tr>\n",
              "      <th>degree_spondylolisthesis</th>\n",
              "      <td>310.0</td>\n",
              "      <td>26.296694</td>\n",
              "      <td>37.559027</td>\n",
              "      <td>-11.058179</td>\n",
              "      <td>1.603727</td>\n",
              "      <td>11.767934</td>\n",
              "      <td>41.287352</td>\n",
              "      <td>418.543082</td>\n",
              "    </tr>\n",
              "  </tbody>\n",
              "</table>\n",
              "</div>"
            ],
            "text/plain": [
              "                          count        mean  ...         75%         max\n",
              "pelvic_incidence          310.0   60.496653  ...   72.877696  129.834041\n",
              "pelvic_tilt numeric       310.0   17.542822  ...   22.120395   49.431864\n",
              "lumbar_lordosis_angle     310.0   51.930930  ...   63.000000  125.742385\n",
              "sacral_slope              310.0   42.953831  ...   52.695888  121.429566\n",
              "pelvic_radius             310.0  117.920655  ...  125.467674  163.071041\n",
              "degree_spondylolisthesis  310.0   26.296694  ...   41.287352  418.543082\n",
              "\n",
              "[6 rows x 8 columns]"
            ]
          },
          "metadata": {
            "tags": []
          },
          "execution_count": 8
        }
      ]
    },
    {
      "cell_type": "markdown",
      "metadata": {
        "id": "bkw_UBbHEocC"
      },
      "source": [
        "- Sürekli değişkenlerimizin ;\r\n",
        "\r\n",
        "  - Ortalamasına \r\n",
        "  - Standart Sapmasına \r\n",
        "  - Standart hatasına \r\n",
        "  - Güven aralığına bakacağız"
      ]
    },
    {
      "cell_type": "code",
      "metadata": {
        "id": "lW6RKREukD3A",
        "colab": {
          "base_uri": "https://localhost:8080/"
        },
        "outputId": "95e66a24-f1cf-4f34-e370-6639d60ffd88"
      },
      "source": [
        "!pip install researchpy"
      ],
      "execution_count": null,
      "outputs": [
        {
          "output_type": "stream",
          "text": [
            "Collecting researchpy\n",
            "  Downloading https://files.pythonhosted.org/packages/4b/a3/b16ea25a5416f7c35824b2fc3ee1cdc9f9d8ab6d9fc4119679504d43b8a8/researchpy-0.2.3-py3-none-any.whl\n",
            "Requirement already satisfied: numpy in /usr/local/lib/python3.7/dist-packages (from researchpy) (1.19.5)\n",
            "Requirement already satisfied: scipy in /usr/local/lib/python3.7/dist-packages (from researchpy) (1.4.1)\n",
            "Requirement already satisfied: pandas in /usr/local/lib/python3.7/dist-packages (from researchpy) (1.1.5)\n",
            "Requirement already satisfied: statsmodels in /usr/local/lib/python3.7/dist-packages (from researchpy) (0.10.2)\n",
            "Requirement already satisfied: python-dateutil>=2.7.3 in /usr/local/lib/python3.7/dist-packages (from pandas->researchpy) (2.8.1)\n",
            "Requirement already satisfied: pytz>=2017.2 in /usr/local/lib/python3.7/dist-packages (from pandas->researchpy) (2018.9)\n",
            "Requirement already satisfied: patsy>=0.4.0 in /usr/local/lib/python3.7/dist-packages (from statsmodels->researchpy) (0.5.1)\n",
            "Requirement already satisfied: six>=1.5 in /usr/local/lib/python3.7/dist-packages (from python-dateutil>=2.7.3->pandas->researchpy) (1.15.0)\n",
            "Installing collected packages: researchpy\n",
            "Successfully installed researchpy-0.2.3\n"
          ],
          "name": "stdout"
        }
      ]
    },
    {
      "cell_type": "code",
      "metadata": {
        "id": "l7zDDeRDD2Zh",
        "colab": {
          "base_uri": "https://localhost:8080/",
          "height": 223
        },
        "outputId": "43ca6ede-d270-4b86-d38c-e3c120c23541"
      },
      "source": [
        "import researchpy as rp\r\n",
        "\r\n",
        "rp.summary_cont(data[['pelvic_incidence','pelvic_radius','sacral_slope']])"
      ],
      "execution_count": null,
      "outputs": [
        {
          "output_type": "stream",
          "text": [
            "\n",
            "\n"
          ],
          "name": "stdout"
        },
        {
          "output_type": "stream",
          "text": [
            "/usr/local/lib/python3.7/dist-packages/statsmodels/tools/_testing.py:19: FutureWarning: pandas.util.testing is deprecated. Use the functions in the public API at pandas.testing instead.\n",
            "  import pandas.util.testing as tm\n"
          ],
          "name": "stderr"
        },
        {
          "output_type": "execute_result",
          "data": {
            "text/html": [
              "<div>\n",
              "<style scoped>\n",
              "    .dataframe tbody tr th:only-of-type {\n",
              "        vertical-align: middle;\n",
              "    }\n",
              "\n",
              "    .dataframe tbody tr th {\n",
              "        vertical-align: top;\n",
              "    }\n",
              "\n",
              "    .dataframe thead th {\n",
              "        text-align: right;\n",
              "    }\n",
              "</style>\n",
              "<table border=\"1\" class=\"dataframe\">\n",
              "  <thead>\n",
              "    <tr style=\"text-align: right;\">\n",
              "      <th></th>\n",
              "      <th>Variable</th>\n",
              "      <th>N</th>\n",
              "      <th>Mean</th>\n",
              "      <th>SD</th>\n",
              "      <th>SE</th>\n",
              "      <th>95% Conf.</th>\n",
              "      <th>Interval</th>\n",
              "    </tr>\n",
              "  </thead>\n",
              "  <tbody>\n",
              "    <tr>\n",
              "      <th>0</th>\n",
              "      <td>pelvic_incidence</td>\n",
              "      <td>310.0</td>\n",
              "      <td>60.4967</td>\n",
              "      <td>17.2365</td>\n",
              "      <td>0.9790</td>\n",
              "      <td>58.5704</td>\n",
              "      <td>62.4229</td>\n",
              "    </tr>\n",
              "    <tr>\n",
              "      <th>1</th>\n",
              "      <td>pelvic_radius</td>\n",
              "      <td>310.0</td>\n",
              "      <td>117.9207</td>\n",
              "      <td>13.3174</td>\n",
              "      <td>0.7564</td>\n",
              "      <td>116.4324</td>\n",
              "      <td>119.4090</td>\n",
              "    </tr>\n",
              "    <tr>\n",
              "      <th>2</th>\n",
              "      <td>sacral_slope</td>\n",
              "      <td>310.0</td>\n",
              "      <td>42.9538</td>\n",
              "      <td>13.4231</td>\n",
              "      <td>0.7624</td>\n",
              "      <td>41.4537</td>\n",
              "      <td>44.4539</td>\n",
              "    </tr>\n",
              "  </tbody>\n",
              "</table>\n",
              "</div>"
            ],
            "text/plain": [
              "           Variable      N      Mean       SD      SE  95% Conf.  Interval\n",
              "0  pelvic_incidence  310.0   60.4967  17.2365  0.9790    58.5704   62.4229\n",
              "1     pelvic_radius  310.0  117.9207  13.3174  0.7564   116.4324  119.4090\n",
              "2      sacral_slope  310.0   42.9538  13.4231  0.7624    41.4537   44.4539"
            ]
          },
          "metadata": {
            "tags": []
          },
          "execution_count": 7
        }
      ]
    },
    {
      "cell_type": "markdown",
      "metadata": {
        "id": "4HJDMuJ7RsEG"
      },
      "source": [
        "- Sürekli değişkenlerimiz arasındaki kovaryansa bakacağız"
      ]
    },
    {
      "cell_type": "code",
      "metadata": {
        "colab": {
          "base_uri": "https://localhost:8080/",
          "height": 136
        },
        "id": "Qn-Pfe19RwnO",
        "outputId": "da2f7b17-4883-425f-d2a2-d6995d1a8104"
      },
      "source": [
        "data[['pelvic_incidence','pelvic_radius','sacral_slope']].cov()"
      ],
      "execution_count": null,
      "outputs": [
        {
          "output_type": "execute_result",
          "data": {
            "text/html": [
              "<div>\n",
              "<style scoped>\n",
              "    .dataframe tbody tr th:only-of-type {\n",
              "        vertical-align: middle;\n",
              "    }\n",
              "\n",
              "    .dataframe tbody tr th {\n",
              "        vertical-align: top;\n",
              "    }\n",
              "\n",
              "    .dataframe thead th {\n",
              "        text-align: right;\n",
              "    }\n",
              "</style>\n",
              "<table border=\"1\" class=\"dataframe\">\n",
              "  <thead>\n",
              "    <tr style=\"text-align: right;\">\n",
              "      <th></th>\n",
              "      <th>pelvic_incidence</th>\n",
              "      <th>pelvic_radius</th>\n",
              "      <th>sacral_slope</th>\n",
              "    </tr>\n",
              "  </thead>\n",
              "  <tbody>\n",
              "    <tr>\n",
              "      <th>pelvic_incidence</th>\n",
              "      <td>297.097633</td>\n",
              "      <td>-56.804919</td>\n",
              "      <td>188.555315</td>\n",
              "    </tr>\n",
              "    <tr>\n",
              "      <th>pelvic_radius</th>\n",
              "      <td>-56.804919</td>\n",
              "      <td>177.352531</td>\n",
              "      <td>-61.159039</td>\n",
              "    </tr>\n",
              "    <tr>\n",
              "      <th>sacral_slope</th>\n",
              "      <td>188.555315</td>\n",
              "      <td>-61.159039</td>\n",
              "      <td>180.179672</td>\n",
              "    </tr>\n",
              "  </tbody>\n",
              "</table>\n",
              "</div>"
            ],
            "text/plain": [
              "                  pelvic_incidence  pelvic_radius  sacral_slope\n",
              "pelvic_incidence        297.097633     -56.804919    188.555315\n",
              "pelvic_radius           -56.804919     177.352531    -61.159039\n",
              "sacral_slope            188.555315     -61.159039    180.179672"
            ]
          },
          "metadata": {
            "tags": []
          },
          "execution_count": 12
        }
      ]
    },
    {
      "cell_type": "markdown",
      "metadata": {
        "id": "GXGcaUBEP6l2"
      },
      "source": [
        "- Bu iki değişkenimiz arasında azalan doğrusal bir ilişki olduğunu gösterir\r\n",
        "\r\n",
        "- Köşegenlerde ki değerler ise varyans değerleridir"
      ]
    },
    {
      "cell_type": "code",
      "metadata": {
        "colab": {
          "base_uri": "https://localhost:8080/",
          "height": 106
        },
        "id": "yltI62KySNps",
        "outputId": "0e1dda13-669b-4801-82ab-ece34c79a45c"
      },
      "source": [
        "data[['pelvic_radius','sacral_slope']].cov()"
      ],
      "execution_count": null,
      "outputs": [
        {
          "output_type": "execute_result",
          "data": {
            "text/html": [
              "<div>\n",
              "<style scoped>\n",
              "    .dataframe tbody tr th:only-of-type {\n",
              "        vertical-align: middle;\n",
              "    }\n",
              "\n",
              "    .dataframe tbody tr th {\n",
              "        vertical-align: top;\n",
              "    }\n",
              "\n",
              "    .dataframe thead th {\n",
              "        text-align: right;\n",
              "    }\n",
              "</style>\n",
              "<table border=\"1\" class=\"dataframe\">\n",
              "  <thead>\n",
              "    <tr style=\"text-align: right;\">\n",
              "      <th></th>\n",
              "      <th>pelvic_radius</th>\n",
              "      <th>sacral_slope</th>\n",
              "    </tr>\n",
              "  </thead>\n",
              "  <tbody>\n",
              "    <tr>\n",
              "      <th>pelvic_radius</th>\n",
              "      <td>177.352531</td>\n",
              "      <td>-61.159039</td>\n",
              "    </tr>\n",
              "    <tr>\n",
              "      <th>sacral_slope</th>\n",
              "      <td>-61.159039</td>\n",
              "      <td>180.179672</td>\n",
              "    </tr>\n",
              "  </tbody>\n",
              "</table>\n",
              "</div>"
            ],
            "text/plain": [
              "               pelvic_radius  sacral_slope\n",
              "pelvic_radius     177.352531    -61.159039\n",
              "sacral_slope      -61.159039    180.179672"
            ]
          },
          "metadata": {
            "tags": []
          },
          "execution_count": 13
        }
      ]
    },
    {
      "cell_type": "markdown",
      "metadata": {
        "id": "4hJqlu_LQ897"
      },
      "source": [
        "- Aşağıda varyans değerlerini görüyoruz tekrardan"
      ]
    },
    {
      "cell_type": "code",
      "metadata": {
        "colab": {
          "base_uri": "https://localhost:8080/"
        },
        "id": "kKgSQXU7Qql5",
        "outputId": "7f23542b-37ff-4fc8-c574-6505242a0033"
      },
      "source": [
        "data[['pelvic_radius','sacral_slope']].var()"
      ],
      "execution_count": null,
      "outputs": [
        {
          "output_type": "execute_result",
          "data": {
            "text/plain": [
              "pelvic_radius    177.352531\n",
              "sacral_slope     180.179672\n",
              "dtype: float64"
            ]
          },
          "metadata": {
            "tags": []
          },
          "execution_count": 12
        }
      ]
    },
    {
      "cell_type": "code",
      "metadata": {
        "colab": {
          "base_uri": "https://localhost:8080/",
          "height": 111
        },
        "id": "yR0UN_u8ScCP",
        "outputId": "36c1bc60-c13f-4a7e-a9be-0a651f804002"
      },
      "source": [
        "data[['pelvic_incidence','sacral_slope']].cov()"
      ],
      "execution_count": null,
      "outputs": [
        {
          "output_type": "execute_result",
          "data": {
            "text/html": [
              "<div>\n",
              "<style scoped>\n",
              "    .dataframe tbody tr th:only-of-type {\n",
              "        vertical-align: middle;\n",
              "    }\n",
              "\n",
              "    .dataframe tbody tr th {\n",
              "        vertical-align: top;\n",
              "    }\n",
              "\n",
              "    .dataframe thead th {\n",
              "        text-align: right;\n",
              "    }\n",
              "</style>\n",
              "<table border=\"1\" class=\"dataframe\">\n",
              "  <thead>\n",
              "    <tr style=\"text-align: right;\">\n",
              "      <th></th>\n",
              "      <th>pelvic_incidence</th>\n",
              "      <th>sacral_slope</th>\n",
              "    </tr>\n",
              "  </thead>\n",
              "  <tbody>\n",
              "    <tr>\n",
              "      <th>pelvic_incidence</th>\n",
              "      <td>297.097633</td>\n",
              "      <td>188.555315</td>\n",
              "    </tr>\n",
              "    <tr>\n",
              "      <th>sacral_slope</th>\n",
              "      <td>188.555315</td>\n",
              "      <td>180.179672</td>\n",
              "    </tr>\n",
              "  </tbody>\n",
              "</table>\n",
              "</div>"
            ],
            "text/plain": [
              "                  pelvic_incidence  sacral_slope\n",
              "pelvic_incidence        297.097633    188.555315\n",
              "sacral_slope            188.555315    180.179672"
            ]
          },
          "metadata": {
            "tags": []
          },
          "execution_count": 9
        }
      ]
    },
    {
      "cell_type": "code",
      "metadata": {
        "colab": {
          "base_uri": "https://localhost:8080/",
          "height": 142
        },
        "id": "1OLlPLl4cpby",
        "outputId": "f5c42a16-8568-4d7b-d85a-5ff0af710faa"
      },
      "source": [
        "data[['pelvic_incidence','sacral_slope','pelvic_radius']].corr()"
      ],
      "execution_count": null,
      "outputs": [
        {
          "output_type": "execute_result",
          "data": {
            "text/html": [
              "<div>\n",
              "<style scoped>\n",
              "    .dataframe tbody tr th:only-of-type {\n",
              "        vertical-align: middle;\n",
              "    }\n",
              "\n",
              "    .dataframe tbody tr th {\n",
              "        vertical-align: top;\n",
              "    }\n",
              "\n",
              "    .dataframe thead th {\n",
              "        text-align: right;\n",
              "    }\n",
              "</style>\n",
              "<table border=\"1\" class=\"dataframe\">\n",
              "  <thead>\n",
              "    <tr style=\"text-align: right;\">\n",
              "      <th></th>\n",
              "      <th>pelvic_incidence</th>\n",
              "      <th>sacral_slope</th>\n",
              "      <th>pelvic_radius</th>\n",
              "    </tr>\n",
              "  </thead>\n",
              "  <tbody>\n",
              "    <tr>\n",
              "      <th>pelvic_incidence</th>\n",
              "      <td>1.000000</td>\n",
              "      <td>0.814960</td>\n",
              "      <td>-0.247467</td>\n",
              "    </tr>\n",
              "    <tr>\n",
              "      <th>sacral_slope</th>\n",
              "      <td>0.814960</td>\n",
              "      <td>1.000000</td>\n",
              "      <td>-0.342128</td>\n",
              "    </tr>\n",
              "    <tr>\n",
              "      <th>pelvic_radius</th>\n",
              "      <td>-0.247467</td>\n",
              "      <td>-0.342128</td>\n",
              "      <td>1.000000</td>\n",
              "    </tr>\n",
              "  </tbody>\n",
              "</table>\n",
              "</div>"
            ],
            "text/plain": [
              "                  pelvic_incidence  sacral_slope  pelvic_radius\n",
              "pelvic_incidence          1.000000      0.814960      -0.247467\n",
              "sacral_slope              0.814960      1.000000      -0.342128\n",
              "pelvic_radius            -0.247467     -0.342128       1.000000"
            ]
          },
          "metadata": {
            "tags": []
          },
          "execution_count": 11
        }
      ]
    },
    {
      "cell_type": "markdown",
      "metadata": {
        "id": "3qCBWXS9R4tk"
      },
      "source": [
        "- \"pelvic_incidence\" ile \"sacral_slope\" değişkenlerimiz arasında güçlü bir pozitif doğrusal ilişki vardır"
      ]
    },
    {
      "cell_type": "code",
      "metadata": {
        "colab": {
          "base_uri": "https://localhost:8080/",
          "height": 111
        },
        "id": "5UJYz6A8OwhA",
        "outputId": "238afbc0-4b59-4f69-9869-217fb6dde9e6"
      },
      "source": [
        "data[['pelvic_incidence','sacral_slope']].corr()"
      ],
      "execution_count": null,
      "outputs": [
        {
          "output_type": "execute_result",
          "data": {
            "text/html": [
              "<div>\n",
              "<style scoped>\n",
              "    .dataframe tbody tr th:only-of-type {\n",
              "        vertical-align: middle;\n",
              "    }\n",
              "\n",
              "    .dataframe tbody tr th {\n",
              "        vertical-align: top;\n",
              "    }\n",
              "\n",
              "    .dataframe thead th {\n",
              "        text-align: right;\n",
              "    }\n",
              "</style>\n",
              "<table border=\"1\" class=\"dataframe\">\n",
              "  <thead>\n",
              "    <tr style=\"text-align: right;\">\n",
              "      <th></th>\n",
              "      <th>pelvic_incidence</th>\n",
              "      <th>sacral_slope</th>\n",
              "    </tr>\n",
              "  </thead>\n",
              "  <tbody>\n",
              "    <tr>\n",
              "      <th>pelvic_incidence</th>\n",
              "      <td>1.00000</td>\n",
              "      <td>0.81496</td>\n",
              "    </tr>\n",
              "    <tr>\n",
              "      <th>sacral_slope</th>\n",
              "      <td>0.81496</td>\n",
              "      <td>1.00000</td>\n",
              "    </tr>\n",
              "  </tbody>\n",
              "</table>\n",
              "</div>"
            ],
            "text/plain": [
              "                  pelvic_incidence  sacral_slope\n",
              "pelvic_incidence           1.00000       0.81496\n",
              "sacral_slope               0.81496       1.00000"
            ]
          },
          "metadata": {
            "tags": []
          },
          "execution_count": 10
        }
      ]
    },
    {
      "cell_type": "markdown",
      "metadata": {
        "id": "_4HOWxXOSGCI"
      },
      "source": [
        "- Bu iki değişkenin doğrusal bir ilişkisini grafik üzerinde görelim"
      ]
    },
    {
      "cell_type": "code",
      "metadata": {
        "colab": {
          "base_uri": "https://localhost:8080/",
          "height": 297
        },
        "id": "JrJcg1jbcxVf",
        "outputId": "2b72fe00-84db-4128-cbb7-5a5761f51d0d"
      },
      "source": [
        "sns.scatterplot(x='pelvic_incidence',y='sacral_slope',data=data)"
      ],
      "execution_count": null,
      "outputs": [
        {
          "output_type": "execute_result",
          "data": {
            "text/plain": [
              "<matplotlib.axes._subplots.AxesSubplot at 0x7f28c248a668>"
            ]
          },
          "metadata": {
            "tags": []
          },
          "execution_count": 18
        },
        {
          "output_type": "display_data",
          "data": {
            "image/png": "[encoded data removed]",
            "text/plain": [
              "<Figure size 432x288 with 1 Axes>"
            ]
          },
          "metadata": {
            "tags": [],
            "needs_background": "light"
          }
        }
      ]
    },
    {
      "cell_type": "markdown",
      "metadata": {
        "id": "a2lPOehmSmDO"
      },
      "source": [
        "- \"pelvic_radius\" ve \"sacral_slope\" değişkenlerimiz arasında düşük bir negatif korelasyon vardır"
      ]
    },
    {
      "cell_type": "code",
      "metadata": {
        "colab": {
          "base_uri": "https://localhost:8080/",
          "height": 111
        },
        "id": "GWzjYmxJSSn_",
        "outputId": "3bcde0ec-f214-40fd-830e-25359edc2204"
      },
      "source": [
        "data[['pelvic_radius','sacral_slope']].corr()"
      ],
      "execution_count": null,
      "outputs": [
        {
          "output_type": "execute_result",
          "data": {
            "text/html": [
              "<div>\n",
              "<style scoped>\n",
              "    .dataframe tbody tr th:only-of-type {\n",
              "        vertical-align: middle;\n",
              "    }\n",
              "\n",
              "    .dataframe tbody tr th {\n",
              "        vertical-align: top;\n",
              "    }\n",
              "\n",
              "    .dataframe thead th {\n",
              "        text-align: right;\n",
              "    }\n",
              "</style>\n",
              "<table border=\"1\" class=\"dataframe\">\n",
              "  <thead>\n",
              "    <tr style=\"text-align: right;\">\n",
              "      <th></th>\n",
              "      <th>pelvic_radius</th>\n",
              "      <th>sacral_slope</th>\n",
              "    </tr>\n",
              "  </thead>\n",
              "  <tbody>\n",
              "    <tr>\n",
              "      <th>pelvic_radius</th>\n",
              "      <td>1.000000</td>\n",
              "      <td>-0.342128</td>\n",
              "    </tr>\n",
              "    <tr>\n",
              "      <th>sacral_slope</th>\n",
              "      <td>-0.342128</td>\n",
              "      <td>1.000000</td>\n",
              "    </tr>\n",
              "  </tbody>\n",
              "</table>\n",
              "</div>"
            ],
            "text/plain": [
              "               pelvic_radius  sacral_slope\n",
              "pelvic_radius       1.000000     -0.342128\n",
              "sacral_slope       -0.342128      1.000000"
            ]
          },
          "metadata": {
            "tags": []
          },
          "execution_count": 13
        }
      ]
    },
    {
      "cell_type": "markdown",
      "metadata": {
        "id": "j38WsP3cVW1N"
      },
      "source": [
        "- Bu iki değişkenimiz arasındaki düşük negatif korelasyonu grafikte görelim"
      ]
    },
    {
      "cell_type": "code",
      "metadata": {
        "colab": {
          "base_uri": "https://localhost:8080/",
          "height": 280
        },
        "id": "vZJXv0zMSh0R",
        "outputId": "35956abc-3258-458e-d3f6-44a6ce24c373"
      },
      "source": [
        "import seaborn as sns\r\n",
        "\r\n",
        "sns.scatterplot(x='pelvic_radius',y='sacral_slope',data=data);"
      ],
      "execution_count": null,
      "outputs": [
        {
          "output_type": "display_data",
          "data": {
            "image/png": "[encoded data removed]",
            "text/plain": [
              "<Figure size 432x288 with 1 Axes>"
            ]
          },
          "metadata": {
            "tags": [],
            "needs_background": "light"
          }
        }
      ]
    },
    {
      "cell_type": "markdown",
      "metadata": {
        "id": "5SQAoIkyRd0A"
      },
      "source": [
        "- Kategorik değişkenimiz için bakacağız"
      ]
    },
    {
      "cell_type": "code",
      "metadata": {
        "colab": {
          "base_uri": "https://localhost:8080/",
          "height": 106
        },
        "id": "MhtDLI00RhPp",
        "outputId": "e90a4223-0b7f-4c3f-8157-376565cb6b83"
      },
      "source": [
        "rp.summary_cat(data[['class']])"
      ],
      "execution_count": null,
      "outputs": [
        {
          "output_type": "execute_result",
          "data": {
            "text/html": [
              "<div>\n",
              "<style scoped>\n",
              "    .dataframe tbody tr th:only-of-type {\n",
              "        vertical-align: middle;\n",
              "    }\n",
              "\n",
              "    .dataframe tbody tr th {\n",
              "        vertical-align: top;\n",
              "    }\n",
              "\n",
              "    .dataframe thead th {\n",
              "        text-align: right;\n",
              "    }\n",
              "</style>\n",
              "<table border=\"1\" class=\"dataframe\">\n",
              "  <thead>\n",
              "    <tr style=\"text-align: right;\">\n",
              "      <th></th>\n",
              "      <th>Variable</th>\n",
              "      <th>Outcome</th>\n",
              "      <th>Count</th>\n",
              "      <th>Percent</th>\n",
              "    </tr>\n",
              "  </thead>\n",
              "  <tbody>\n",
              "    <tr>\n",
              "      <th>0</th>\n",
              "      <td>class</td>\n",
              "      <td>Abnormal</td>\n",
              "      <td>210</td>\n",
              "      <td>67.74</td>\n",
              "    </tr>\n",
              "    <tr>\n",
              "      <th>1</th>\n",
              "      <td></td>\n",
              "      <td>Normal</td>\n",
              "      <td>100</td>\n",
              "      <td>32.26</td>\n",
              "    </tr>\n",
              "  </tbody>\n",
              "</table>\n",
              "</div>"
            ],
            "text/plain": [
              "  Variable   Outcome  Count  Percent\n",
              "0    class  Abnormal    210    67.74\n",
              "1             Normal    100    32.26"
            ]
          },
          "metadata": {
            "tags": []
          },
          "execution_count": 9
        }
      ]
    },
    {
      "cell_type": "markdown",
      "metadata": {
        "id": "ofj4hl_B8Q88"
      },
      "source": [
        "- Eksik değerlerimiz var mı yok mu ona bakıyoruz"
      ]
    },
    {
      "cell_type": "code",
      "metadata": {
        "colab": {
          "base_uri": "https://localhost:8080/"
        },
        "id": "R7ibOyIU7wzq",
        "outputId": "35a90e21-7257-4ad2-ab81-e8de746b6966"
      },
      "source": [
        "data.isnull().sum()"
      ],
      "execution_count": null,
      "outputs": [
        {
          "output_type": "execute_result",
          "data": {
            "text/plain": [
              "pelvic_incidence            0\n",
              "pelvic_tilt numeric         0\n",
              "lumbar_lordosis_angle       0\n",
              "sacral_slope                0\n",
              "pelvic_radius               0\n",
              "degree_spondylolisthesis    0\n",
              "class                       0\n",
              "dtype: int64"
            ]
          },
          "metadata": {
            "tags": []
          },
          "execution_count": 51
        }
      ]
    },
    {
      "cell_type": "markdown",
      "metadata": {
        "id": "8Tt5MaPI8VjU"
      },
      "source": [
        "- Veri Setimizde hiç eksik değer olmadığını görüyoruz"
      ]
    },
    {
      "cell_type": "code",
      "metadata": {
        "colab": {
          "base_uri": "https://localhost:8080/"
        },
        "id": "98V9w5C18MMi",
        "outputId": "85474597-be29-49f2-d67f-b07a18380e63"
      },
      "source": [
        "data.isnull().sum().sum()"
      ],
      "execution_count": null,
      "outputs": [
        {
          "output_type": "execute_result",
          "data": {
            "text/plain": [
              "0"
            ]
          },
          "metadata": {
            "tags": []
          },
          "execution_count": 52
        }
      ]
    },
    {
      "cell_type": "markdown",
      "metadata": {
        "id": "G5S8p_0dmnsh"
      },
      "source": [
        "# Veri Görselleştirme"
      ]
    },
    {
      "cell_type": "markdown",
      "metadata": {
        "id": "D1Usj3NW-BGO"
      },
      "source": [
        "- Değişkenlerimizin sütun grafiğine bakalım"
      ]
    },
    {
      "cell_type": "code",
      "metadata": {
        "colab": {
          "base_uri": "https://localhost:8080/",
          "height": 1000
        },
        "id": "pGlYDDU6qb9f",
        "outputId": "ff2d192a-ee8f-4303-eb3b-5e1b570195a2"
      },
      "source": [
        "sns.pairplot(data);"
      ],
      "execution_count": null,
      "outputs": [
        {
          "output_type": "display_data",
          "data": {
            "image/png": "[encoded data removed]",
            "text/plain": [
              "<Figure size 1080x1080 with 42 Axes>"
            ]
          },
          "metadata": {
            "tags": [],
            "needs_background": "light"
          }
        }
      ]
    },
    {
      "cell_type": "code",
      "metadata": {
        "colab": {
          "base_uri": "https://localhost:8080/",
          "height": 334
        },
        "id": "NTOJ3rWbu9WC",
        "outputId": "46d8eb7a-0790-4e3f-a675-54570369f390"
      },
      "source": [
        "sns.scatterplot('pelvic_incidence','sacral_slope',data=data);"
      ],
      "execution_count": null,
      "outputs": [
        {
          "output_type": "stream",
          "text": [
            "/usr/local/lib/python3.6/dist-packages/seaborn/_decorators.py:43: FutureWarning: Pass the following variables as keyword args: x, y. From version 0.12, the only valid positional argument will be `data`, and passing other arguments without an explicit keyword will result in an error or misinterpretation.\n",
            "  FutureWarning\n"
          ],
          "name": "stderr"
        },
        {
          "output_type": "display_data",
          "data": {
            "image/png": "[encoded data removed]",
            "text/plain": [
              "<Figure size 432x288 with 1 Axes>"
            ]
          },
          "metadata": {
            "tags": [],
            "needs_background": "light"
          }
        }
      ]
    },
    {
      "cell_type": "code",
      "metadata": {
        "colab": {
          "base_uri": "https://localhost:8080/"
        },
        "id": "UlEdjnTkdAnr",
        "outputId": "6c1296da-374c-415f-fbe3-7bbdd5788d40"
      },
      "source": [
        "sns.scatterplot(x='pelvic_radius',y='sacral_slope',data=data)"
      ],
      "execution_count": null,
      "outputs": [
        {
          "output_type": "execute_result",
          "data": {
            "text/plain": [
              "<matplotlib.axes._subplots.AxesSubplot at 0x7f28c170f048>"
            ]
          },
          "metadata": {
            "tags": []
          },
          "execution_count": 19
        },
        {
          "output_type": "display_data",
          "data": {
            "image/png": "[encoded data removed]",
            "text/plain": [
              "<Figure size 432x288 with 1 Axes>"
            ]
          },
          "metadata": {
            "tags": [],
            "needs_background": "light"
          }
        }
      ]
    },
    {
      "cell_type": "code",
      "metadata": {
        "colab": {
          "base_uri": "https://localhost:8080/",
          "height": 297
        },
        "id": "8UgG7OeklHG6",
        "outputId": "c5af8cf9-866d-4a6d-f13f-d073106216cc"
      },
      "source": [
        "import seaborn as sns\r\n",
        "\r\n",
        "sns.scatterplot(x='pelvic_incidence',y='pelvic_radius',data=data)"
      ],
      "execution_count": null,
      "outputs": [
        {
          "output_type": "execute_result",
          "data": {
            "text/plain": [
              "<matplotlib.axes._subplots.AxesSubplot at 0x7fd3ddd60090>"
            ]
          },
          "metadata": {
            "tags": []
          },
          "execution_count": 22
        },
        {
          "output_type": "display_data",
          "data": {
            "image/png": "[encoded data removed]",
            "text/plain": [
              "<Figure size 432x288 with 1 Axes>"
            ]
          },
          "metadata": {
            "tags": [],
            "needs_background": "light"
          }
        }
      ]
    },
    {
      "cell_type": "code",
      "metadata": {
        "colab": {
          "base_uri": "https://localhost:8080/",
          "height": 265
        },
        "id": "VKdAPKds-Ewh",
        "outputId": "4e96e117-b5f6-4ad4-af59-b9d40bf99348"
      },
      "source": [
        "kat_df.value_counts().plot.barh();"
      ],
      "execution_count": null,
      "outputs": [
        {
          "output_type": "display_data",
          "data": {
            "image/png": "[encoded data removed]",
            "text/plain": [
              "<Figure size 432x288 with 1 Axes>"
            ]
          },
          "metadata": {
            "tags": [],
            "needs_background": "light"
          }
        }
      ]
    },
    {
      "cell_type": "code",
      "metadata": {
        "colab": {
          "base_uri": "https://localhost:8080/",
          "height": 296
        },
        "id": "F0J6ktGD-dza",
        "outputId": "dbdec1b4-ed4c-49aa-8bed-7236ff6ffdf5"
      },
      "source": [
        "import seaborn as sns \r\n",
        "\r\n",
        "sns.countplot(x=data['class'])"
      ],
      "execution_count": null,
      "outputs": [
        {
          "output_type": "execute_result",
          "data": {
            "text/plain": [
              "<matplotlib.axes._subplots.AxesSubplot at 0x7fd3dc67ee90>"
            ]
          },
          "metadata": {
            "tags": []
          },
          "execution_count": 23
        },
        {
          "output_type": "display_data",
          "data": {
            "image/png": "[encoded data removed]",
            "text/plain": [
              "<Figure size 432x288 with 1 Axes>"
            ]
          },
          "metadata": {
            "tags": [],
            "needs_background": "light"
          }
        }
      ]
    },
    {
      "cell_type": "code",
      "metadata": {
        "colab": {
          "base_uri": "https://localhost:8080/",
          "height": 383
        },
        "id": "fO2ZmAj__kuw",
        "outputId": "3e40ee55-89db-4883-e565-20a4be34e800"
      },
      "source": [
        "sns.catplot(x='class',y='pelvic_incidence',kind='bar',data=data);"
      ],
      "execution_count": null,
      "outputs": [
        {
          "output_type": "display_data",
          "data": {
            "image/png": "[encoded data removed]",
            "text/plain": [
              "<Figure size 360x360 with 1 Axes>"
            ]
          },
          "metadata": {
            "tags": [],
            "needs_background": "light"
          }
        }
      ]
    },
    {
      "cell_type": "code",
      "metadata": {
        "colab": {
          "base_uri": "https://localhost:8080/",
          "height": 400
        },
        "id": "qnHn_YCHh2sR",
        "outputId": "1e71c34a-cd1c-4d7b-f511-3efe3706c89a"
      },
      "source": [
        "sns.catplot(x='class', y = 'pelvic_incidence' , data = data)"
      ],
      "execution_count": null,
      "outputs": [
        {
          "output_type": "execute_result",
          "data": {
            "text/plain": [
              "<seaborn.axisgrid.FacetGrid at 0x7fb6d3249eb8>"
            ]
          },
          "metadata": {
            "tags": []
          },
          "execution_count": 77
        },
        {
          "output_type": "display_data",
          "data": {
            "image/png": "[encoded data removed]",
            "text/plain": [
              "<Figure size 360x360 with 1 Axes>"
            ]
          },
          "metadata": {
            "tags": [],
            "needs_background": "light"
          }
        }
      ]
    },
    {
      "cell_type": "code",
      "metadata": {
        "colab": {
          "base_uri": "https://localhost:8080/",
          "height": 383
        },
        "id": "I8CZ2jg-wvww",
        "outputId": "d8314df9-6700-4f04-dad7-fb1f400ff110"
      },
      "source": [
        "sns.catplot(x='class',y='sacral_slope',data=data);"
      ],
      "execution_count": null,
      "outputs": [
        {
          "output_type": "display_data",
          "data": {
            "image/png": "[encoded data removed]",
            "text/plain": [
              "<Figure size 360x360 with 1 Axes>"
            ]
          },
          "metadata": {
            "tags": [],
            "needs_background": "light"
          }
        }
      ]
    },
    {
      "cell_type": "code",
      "metadata": {
        "colab": {
          "base_uri": "https://localhost:8080/",
          "height": 334
        },
        "id": "lbWAbkb8wIDo",
        "outputId": "97bbe2a0-7d46-451b-eded-8e3eae132d1b"
      },
      "source": [
        "sns.scatterplot('pelvic_incidence','sacral_slope',hue='class',data=data);"
      ],
      "execution_count": null,
      "outputs": [
        {
          "output_type": "stream",
          "text": [
            "/usr/local/lib/python3.6/dist-packages/seaborn/_decorators.py:43: FutureWarning: Pass the following variables as keyword args: x, y. From version 0.12, the only valid positional argument will be `data`, and passing other arguments without an explicit keyword will result in an error or misinterpretation.\n",
            "  FutureWarning\n"
          ],
          "name": "stderr"
        },
        {
          "output_type": "display_data",
          "data": {
            "image/png": "[encoded data removed]",
            "text/plain": [
              "<Figure size 432x288 with 1 Axes>"
            ]
          },
          "metadata": {
            "tags": [],
            "needs_background": "light"
          }
        }
      ]
    },
    {
      "cell_type": "code",
      "metadata": {
        "colab": {
          "base_uri": "https://localhost:8080/",
          "height": 334
        },
        "id": "BueaqehgWnPT",
        "outputId": "b3aac1da-007f-4b03-876e-f9df1417135e"
      },
      "source": [
        "sns.boxplot(data['pelvic_incidence']);"
      ],
      "execution_count": null,
      "outputs": [
        {
          "output_type": "stream",
          "text": [
            "/usr/local/lib/python3.6/dist-packages/seaborn/_decorators.py:43: FutureWarning: Pass the following variable as a keyword arg: x. From version 0.12, the only valid positional argument will be `data`, and passing other arguments without an explicit keyword will result in an error or misinterpretation.\n",
            "  FutureWarning\n"
          ],
          "name": "stderr"
        },
        {
          "output_type": "display_data",
          "data": {
            "image/png": "[encoded data removed]",
            "text/plain": [
              "<Figure size 432x288 with 1 Axes>"
            ]
          },
          "metadata": {
            "tags": [],
            "needs_background": "light"
          }
        }
      ]
    },
    {
      "cell_type": "code",
      "metadata": {
        "colab": {
          "base_uri": "https://localhost:8080/",
          "height": 334
        },
        "id": "WoHXxcXnYj8E",
        "outputId": "89315a34-0be7-4c8f-a79d-b3080ec88ee9"
      },
      "source": [
        "sns.boxplot(data['pelvic_radius']);"
      ],
      "execution_count": null,
      "outputs": [
        {
          "output_type": "stream",
          "text": [
            "/usr/local/lib/python3.6/dist-packages/seaborn/_decorators.py:43: FutureWarning: Pass the following variable as a keyword arg: x. From version 0.12, the only valid positional argument will be `data`, and passing other arguments without an explicit keyword will result in an error or misinterpretation.\n",
            "  FutureWarning\n"
          ],
          "name": "stderr"
        },
        {
          "output_type": "display_data",
          "data": {
            "image/png": "[encoded data removed]",
            "text/plain": [
              "<Figure size 432x288 with 1 Axes>"
            ]
          },
          "metadata": {
            "tags": [],
            "needs_background": "light"
          }
        }
      ]
    },
    {
      "cell_type": "markdown",
      "metadata": {
        "id": "lmByDlQiZW4z"
      },
      "source": [
        "- Yukarıda ki boxplot grafiklerine bakarak \"pelvic_radius\" değişkeninin daha yukarıda olduğunu görebiliyoruz\r\n",
        "- pelvic_radius değişkeninde Class sınıfımızın 'normal' sınıfının median çevresinde daraldığını o değerlerde sıkıştığını görebiliyoruz"
      ]
    },
    {
      "cell_type": "code",
      "metadata": {
        "colab": {
          "base_uri": "https://localhost:8080/",
          "height": 279
        },
        "id": "sceHCj_0YuuZ",
        "outputId": "3f3ae708-48d2-43c1-9294-00c1e79d1ee3"
      },
      "source": [
        "sns.boxplot(x='class',y='pelvic_radius',data=data);"
      ],
      "execution_count": null,
      "outputs": [
        {
          "output_type": "display_data",
          "data": {
            "image/png": "[encoded data removed]",
            "text/plain": [
              "<Figure size 432x288 with 1 Axes>"
            ]
          },
          "metadata": {
            "tags": [],
            "needs_background": "light"
          }
        }
      ]
    },
    {
      "cell_type": "code",
      "metadata": {
        "colab": {
          "base_uri": "https://localhost:8080/",
          "height": 383
        },
        "id": "TwE5aSxyZ8-6",
        "outputId": "11a1fdc6-874e-45e3-8490-622617100ad4"
      },
      "source": [
        "sns.catplot(x='class',y='pelvic_incidence',data=data,kind='box');"
      ],
      "execution_count": null,
      "outputs": [
        {
          "output_type": "display_data",
          "data": {
            "image/png": "[encoded data removed]",
            "text/plain": [
              "<Figure size 360x360 with 1 Axes>"
            ]
          },
          "metadata": {
            "tags": [],
            "needs_background": "light"
          }
        }
      ]
    },
    {
      "cell_type": "markdown",
      "metadata": {
        "id": "ZFqnYsNgmlII"
      },
      "source": [
        "# Veri Ön İşleme"
      ]
    },
    {
      "cell_type": "markdown",
      "metadata": {
        "id": "FAw6CkrjVtXd"
      },
      "source": [
        "- object tipi bizim o değişkenin kategorik olduğunun bigisini bize verir"
      ]
    },
    {
      "cell_type": "code",
      "metadata": {
        "colab": {
          "base_uri": "https://localhost:8080/"
        },
        "id": "HS1gQHKlA2Pf",
        "outputId": "2a29730d-ecdf-49e5-c672-d4d517de99e7"
      },
      "source": [
        "data.info()"
      ],
      "execution_count": null,
      "outputs": [
        {
          "output_type": "stream",
          "text": [
            "<class 'pandas.core.frame.DataFrame'>\n",
            "RangeIndex: 310 entries, 0 to 309\n",
            "Data columns (total 7 columns):\n",
            " #   Column                    Non-Null Count  Dtype  \n",
            "---  ------                    --------------  -----  \n",
            " 0   pelvic_incidence          310 non-null    float64\n",
            " 1   pelvic_tilt numeric       310 non-null    float64\n",
            " 2   lumbar_lordosis_angle     310 non-null    float64\n",
            " 3   sacral_slope              310 non-null    float64\n",
            " 4   pelvic_radius             310 non-null    float64\n",
            " 5   degree_spondylolisthesis  310 non-null    float64\n",
            " 6   class                     310 non-null    object \n",
            "dtypes: float64(6), object(1)\n",
            "memory usage: 17.1+ KB\n"
          ],
          "name": "stdout"
        }
      ]
    },
    {
      "cell_type": "markdown",
      "metadata": {
        "id": "bD_ENidAAyyn"
      },
      "source": [
        "- tipi object olan kategorik değişkenimizin tipini category yapıyoruz"
      ]
    },
    {
      "cell_type": "code",
      "metadata": {
        "id": "4XAhfbRtAYV2"
      },
      "source": [
        "data['class'] = pd.Categorical(data['class'])"
      ],
      "execution_count": 3,
      "outputs": []
    },
    {
      "cell_type": "code",
      "metadata": {
        "colab": {
          "base_uri": "https://localhost:8080/"
        },
        "id": "axAF0IttA-gW",
        "outputId": "b525c62b-8e75-4710-d0e9-6e75fccbadec"
      },
      "source": [
        "data.info()"
      ],
      "execution_count": null,
      "outputs": [
        {
          "output_type": "stream",
          "text": [
            "<class 'pandas.core.frame.DataFrame'>\n",
            "RangeIndex: 310 entries, 0 to 309\n",
            "Data columns (total 7 columns):\n",
            " #   Column                    Non-Null Count  Dtype   \n",
            "---  ------                    --------------  -----   \n",
            " 0   pelvic_incidence          310 non-null    float64 \n",
            " 1   pelvic_tilt numeric       310 non-null    float64 \n",
            " 2   lumbar_lordosis_angle     310 non-null    float64 \n",
            " 3   sacral_slope              310 non-null    float64 \n",
            " 4   pelvic_radius             310 non-null    float64 \n",
            " 5   degree_spondylolisthesis  310 non-null    float64 \n",
            " 6   class                     310 non-null    category\n",
            "dtypes: category(1), float64(6)\n",
            "memory usage: 15.1 KB\n"
          ],
          "name": "stdout"
        }
      ]
    },
    {
      "cell_type": "markdown",
      "metadata": {
        "id": "t9MiRA5ABUcW"
      },
      "source": [
        "- Kategorik değişkenimizi inceleyelim.\r\n",
        "- Datamızdan alıyoruz\r\n",
        "- Kategorik değişkenimizin tipini category yaptığımız için datamızı seçerken include = category olarak yapacağız"
      ]
    },
    {
      "cell_type": "code",
      "metadata": {
        "id": "gNW2HMjlBZvk"
      },
      "source": [
        "kat_df = data.select_dtypes(include=['category'])"
      ],
      "execution_count": 4,
      "outputs": []
    },
    {
      "cell_type": "code",
      "metadata": {
        "colab": {
          "base_uri": "https://localhost:8080/",
          "height": 402
        },
        "id": "Ewqw9U8TBduN",
        "outputId": "006416f0-f1ba-4e15-a403-3b2b6a352d96"
      },
      "source": [
        "kat_df"
      ],
      "execution_count": 5,
      "outputs": [
        {
          "output_type": "execute_result",
          "data": {
            "text/html": [
              "<div>\n",
              "<style scoped>\n",
              "    .dataframe tbody tr th:only-of-type {\n",
              "        vertical-align: middle;\n",
              "    }\n",
              "\n",
              "    .dataframe tbody tr th {\n",
              "        vertical-align: top;\n",
              "    }\n",
              "\n",
              "    .dataframe thead th {\n",
              "        text-align: right;\n",
              "    }\n",
              "</style>\n",
              "<table border=\"1\" class=\"dataframe\">\n",
              "  <thead>\n",
              "    <tr style=\"text-align: right;\">\n",
              "      <th></th>\n",
              "      <th>class</th>\n",
              "    </tr>\n",
              "  </thead>\n",
              "  <tbody>\n",
              "    <tr>\n",
              "      <th>0</th>\n",
              "      <td>Abnormal</td>\n",
              "    </tr>\n",
              "    <tr>\n",
              "      <th>1</th>\n",
              "      <td>Abnormal</td>\n",
              "    </tr>\n",
              "    <tr>\n",
              "      <th>2</th>\n",
              "      <td>Abnormal</td>\n",
              "    </tr>\n",
              "    <tr>\n",
              "      <th>3</th>\n",
              "      <td>Abnormal</td>\n",
              "    </tr>\n",
              "    <tr>\n",
              "      <th>4</th>\n",
              "      <td>Abnormal</td>\n",
              "    </tr>\n",
              "    <tr>\n",
              "      <th>...</th>\n",
              "      <td>...</td>\n",
              "    </tr>\n",
              "    <tr>\n",
              "      <th>305</th>\n",
              "      <td>Normal</td>\n",
              "    </tr>\n",
              "    <tr>\n",
              "      <th>306</th>\n",
              "      <td>Normal</td>\n",
              "    </tr>\n",
              "    <tr>\n",
              "      <th>307</th>\n",
              "      <td>Normal</td>\n",
              "    </tr>\n",
              "    <tr>\n",
              "      <th>308</th>\n",
              "      <td>Normal</td>\n",
              "    </tr>\n",
              "    <tr>\n",
              "      <th>309</th>\n",
              "      <td>Normal</td>\n",
              "    </tr>\n",
              "  </tbody>\n",
              "</table>\n",
              "<p>310 rows × 1 columns</p>\n",
              "</div>"
            ],
            "text/plain": [
              "        class\n",
              "0    Abnormal\n",
              "1    Abnormal\n",
              "2    Abnormal\n",
              "3    Abnormal\n",
              "4    Abnormal\n",
              "..        ...\n",
              "305    Normal\n",
              "306    Normal\n",
              "307    Normal\n",
              "308    Normal\n",
              "309    Normal\n",
              "\n",
              "[310 rows x 1 columns]"
            ]
          },
          "metadata": {
            "tags": []
          },
          "execution_count": 5
        }
      ]
    },
    {
      "cell_type": "markdown",
      "metadata": {
        "id": "kCIS3QqYBkmB"
      },
      "source": [
        "- Kategorik değişkenin tüm sınıflarını görelim"
      ]
    },
    {
      "cell_type": "code",
      "metadata": {
        "id": "cgyyIfK0Blez"
      },
      "source": [
        "import numpy as np\r\n",
        "\r\n",
        "kat_df_unique = np.unique(kat_df)"
      ],
      "execution_count": null,
      "outputs": []
    },
    {
      "cell_type": "code",
      "metadata": {
        "colab": {
          "base_uri": "https://localhost:8080/"
        },
        "id": "_QJVG5k7B0ju",
        "outputId": "315368e7-b575-4264-c038-5e595a89ad44"
      },
      "source": [
        "kat_df_unique"
      ],
      "execution_count": null,
      "outputs": [
        {
          "output_type": "execute_result",
          "data": {
            "text/plain": [
              "array(['Abnormal', 'Normal'], dtype=object)"
            ]
          },
          "metadata": {
            "tags": []
          },
          "execution_count": 9
        }
      ]
    },
    {
      "cell_type": "markdown",
      "metadata": {
        "id": "Ml4xpl9bB4rL"
      },
      "source": [
        "- Sınıflarımızın sayısına bakalım"
      ]
    },
    {
      "cell_type": "code",
      "metadata": {
        "colab": {
          "base_uri": "https://localhost:8080/"
        },
        "id": "sZUGGbjuCCmi",
        "outputId": "ff1e974c-27fd-4902-9527-9031de07afe1"
      },
      "source": [
        "kat_df.value_counts().count()"
      ],
      "execution_count": null,
      "outputs": [
        {
          "output_type": "execute_result",
          "data": {
            "text/plain": [
              "2"
            ]
          },
          "metadata": {
            "tags": []
          },
          "execution_count": 10
        }
      ]
    },
    {
      "cell_type": "markdown",
      "metadata": {
        "id": "faAddM6uCNxH"
      },
      "source": [
        "- Sınıflarımızın veri setinde ki sayısına bakalım"
      ]
    },
    {
      "cell_type": "code",
      "metadata": {
        "colab": {
          "base_uri": "https://localhost:8080/"
        },
        "id": "5vWTyUhUB7dJ",
        "outputId": "9da6a354-c674-464a-9c36-fe464673f0ca"
      },
      "source": [
        "kat_df.value_counts()"
      ],
      "execution_count": null,
      "outputs": [
        {
          "output_type": "execute_result",
          "data": {
            "text/plain": [
              "class   \n",
              "Abnormal    210\n",
              "Normal      100\n",
              "dtype: int64"
            ]
          },
          "metadata": {
            "tags": []
          },
          "execution_count": 11
        }
      ]
    },
    {
      "cell_type": "markdown",
      "metadata": {
        "id": "RXvauRjTmwmE"
      },
      "source": [
        "- Kategorik verilerimizi label Encoder ile 0-1'lerden oluşan sınıflara çevireceğiz"
      ]
    },
    {
      "cell_type": "code",
      "metadata": {
        "colab": {
          "base_uri": "https://localhost:8080/"
        },
        "id": "sF4KD_ALmv6S",
        "outputId": "92f35a18-258d-4dca-c5e8-60744d6d3731"
      },
      "source": [
        "from sklearn.preprocessing import LabelEncoder\r\n",
        "\r\n",
        "label = LabelEncoder()\r\n",
        "\r\n",
        "kat_df = label.fit_transform(kat_df)"
      ],
      "execution_count": 6,
      "outputs": [
        {
          "output_type": "stream",
          "text": [
            "/usr/local/lib/python3.7/dist-packages/sklearn/preprocessing/_label.py:251: DataConversionWarning: A column-vector y was passed when a 1d array was expected. Please change the shape of y to (n_samples, ), for example using ravel().\n",
            "  y = column_or_1d(y, warn=True)\n"
          ],
          "name": "stderr"
        }
      ]
    },
    {
      "cell_type": "code",
      "metadata": {
        "colab": {
          "base_uri": "https://localhost:8080/"
        },
        "id": "opsQIIRLnbno",
        "outputId": "586826cb-ac42-4634-9e59-0c9fc63ff551"
      },
      "source": [
        "kat_df"
      ],
      "execution_count": 7,
      "outputs": [
        {
          "output_type": "execute_result",
          "data": {
            "text/plain": [
              "array([0, 0, 0, 0, 0, 0, 0, 0, 0, 0, 0, 0, 0, 0, 0, 0, 0, 0, 0, 0, 0, 0,\n",
              "       0, 0, 0, 0, 0, 0, 0, 0, 0, 0, 0, 0, 0, 0, 0, 0, 0, 0, 0, 0, 0, 0,\n",
              "       0, 0, 0, 0, 0, 0, 0, 0, 0, 0, 0, 0, 0, 0, 0, 0, 0, 0, 0, 0, 0, 0,\n",
              "       0, 0, 0, 0, 0, 0, 0, 0, 0, 0, 0, 0, 0, 0, 0, 0, 0, 0, 0, 0, 0, 0,\n",
              "       0, 0, 0, 0, 0, 0, 0, 0, 0, 0, 0, 0, 0, 0, 0, 0, 0, 0, 0, 0, 0, 0,\n",
              "       0, 0, 0, 0, 0, 0, 0, 0, 0, 0, 0, 0, 0, 0, 0, 0, 0, 0, 0, 0, 0, 0,\n",
              "       0, 0, 0, 0, 0, 0, 0, 0, 0, 0, 0, 0, 0, 0, 0, 0, 0, 0, 0, 0, 0, 0,\n",
              "       0, 0, 0, 0, 0, 0, 0, 0, 0, 0, 0, 0, 0, 0, 0, 0, 0, 0, 0, 0, 0, 0,\n",
              "       0, 0, 0, 0, 0, 0, 0, 0, 0, 0, 0, 0, 0, 0, 0, 0, 0, 0, 0, 0, 0, 0,\n",
              "       0, 0, 0, 0, 0, 0, 0, 0, 0, 0, 0, 0, 1, 1, 1, 1, 1, 1, 1, 1, 1, 1,\n",
              "       1, 1, 1, 1, 1, 1, 1, 1, 1, 1, 1, 1, 1, 1, 1, 1, 1, 1, 1, 1, 1, 1,\n",
              "       1, 1, 1, 1, 1, 1, 1, 1, 1, 1, 1, 1, 1, 1, 1, 1, 1, 1, 1, 1, 1, 1,\n",
              "       1, 1, 1, 1, 1, 1, 1, 1, 1, 1, 1, 1, 1, 1, 1, 1, 1, 1, 1, 1, 1, 1,\n",
              "       1, 1, 1, 1, 1, 1, 1, 1, 1, 1, 1, 1, 1, 1, 1, 1, 1, 1, 1, 1, 1, 1,\n",
              "       1, 1])"
            ]
          },
          "metadata": {
            "tags": []
          },
          "execution_count": 7
        }
      ]
    },
    {
      "cell_type": "markdown",
      "metadata": {
        "id": "1aSocDTVa6YS"
      },
      "source": [
        "- Datamız içerisindeki class değişkenimizın sınıflarını aşağıdaki gibi labelEncoder ile 0-1 yapabiliriz"
      ]
    },
    {
      "cell_type": "code",
      "metadata": {
        "id": "4UFlzvu8rTFP"
      },
      "source": [
        "data['class'] =label.fit_transform(data['class'])"
      ],
      "execution_count": 8,
      "outputs": []
    },
    {
      "cell_type": "code",
      "metadata": {
        "colab": {
          "base_uri": "https://localhost:8080/",
          "height": 402
        },
        "id": "YCM8fq08rhwp",
        "outputId": "ddac889c-fb8e-4eef-921e-5145fab6e2b6"
      },
      "source": [
        "data"
      ],
      "execution_count": 9,
      "outputs": [
        {
          "output_type": "execute_result",
          "data": {
            "text/html": [
              "<div>\n",
              "<style scoped>\n",
              "    .dataframe tbody tr th:only-of-type {\n",
              "        vertical-align: middle;\n",
              "    }\n",
              "\n",
              "    .dataframe tbody tr th {\n",
              "        vertical-align: top;\n",
              "    }\n",
              "\n",
              "    .dataframe thead th {\n",
              "        text-align: right;\n",
              "    }\n",
              "</style>\n",
              "<table border=\"1\" class=\"dataframe\">\n",
              "  <thead>\n",
              "    <tr style=\"text-align: right;\">\n",
              "      <th></th>\n",
              "      <th>pelvic_incidence</th>\n",
              "      <th>pelvic_tilt numeric</th>\n",
              "      <th>lumbar_lordosis_angle</th>\n",
              "      <th>sacral_slope</th>\n",
              "      <th>pelvic_radius</th>\n",
              "      <th>degree_spondylolisthesis</th>\n",
              "      <th>class</th>\n",
              "    </tr>\n",
              "  </thead>\n",
              "  <tbody>\n",
              "    <tr>\n",
              "      <th>0</th>\n",
              "      <td>63.027818</td>\n",
              "      <td>22.552586</td>\n",
              "      <td>39.609117</td>\n",
              "      <td>40.475232</td>\n",
              "      <td>98.672917</td>\n",
              "      <td>-0.254400</td>\n",
              "      <td>0</td>\n",
              "    </tr>\n",
              "    <tr>\n",
              "      <th>1</th>\n",
              "      <td>39.056951</td>\n",
              "      <td>10.060991</td>\n",
              "      <td>25.015378</td>\n",
              "      <td>28.995960</td>\n",
              "      <td>114.405425</td>\n",
              "      <td>4.564259</td>\n",
              "      <td>0</td>\n",
              "    </tr>\n",
              "    <tr>\n",
              "      <th>2</th>\n",
              "      <td>68.832021</td>\n",
              "      <td>22.218482</td>\n",
              "      <td>50.092194</td>\n",
              "      <td>46.613539</td>\n",
              "      <td>105.985135</td>\n",
              "      <td>-3.530317</td>\n",
              "      <td>0</td>\n",
              "    </tr>\n",
              "    <tr>\n",
              "      <th>3</th>\n",
              "      <td>69.297008</td>\n",
              "      <td>24.652878</td>\n",
              "      <td>44.311238</td>\n",
              "      <td>44.644130</td>\n",
              "      <td>101.868495</td>\n",
              "      <td>11.211523</td>\n",
              "      <td>0</td>\n",
              "    </tr>\n",
              "    <tr>\n",
              "      <th>4</th>\n",
              "      <td>49.712859</td>\n",
              "      <td>9.652075</td>\n",
              "      <td>28.317406</td>\n",
              "      <td>40.060784</td>\n",
              "      <td>108.168725</td>\n",
              "      <td>7.918501</td>\n",
              "      <td>0</td>\n",
              "    </tr>\n",
              "    <tr>\n",
              "      <th>...</th>\n",
              "      <td>...</td>\n",
              "      <td>...</td>\n",
              "      <td>...</td>\n",
              "      <td>...</td>\n",
              "      <td>...</td>\n",
              "      <td>...</td>\n",
              "      <td>...</td>\n",
              "    </tr>\n",
              "    <tr>\n",
              "      <th>305</th>\n",
              "      <td>47.903565</td>\n",
              "      <td>13.616688</td>\n",
              "      <td>36.000000</td>\n",
              "      <td>34.286877</td>\n",
              "      <td>117.449062</td>\n",
              "      <td>-4.245395</td>\n",
              "      <td>1</td>\n",
              "    </tr>\n",
              "    <tr>\n",
              "      <th>306</th>\n",
              "      <td>53.936748</td>\n",
              "      <td>20.721496</td>\n",
              "      <td>29.220534</td>\n",
              "      <td>33.215251</td>\n",
              "      <td>114.365845</td>\n",
              "      <td>-0.421010</td>\n",
              "      <td>1</td>\n",
              "    </tr>\n",
              "    <tr>\n",
              "      <th>307</th>\n",
              "      <td>61.446597</td>\n",
              "      <td>22.694968</td>\n",
              "      <td>46.170347</td>\n",
              "      <td>38.751628</td>\n",
              "      <td>125.670725</td>\n",
              "      <td>-2.707880</td>\n",
              "      <td>1</td>\n",
              "    </tr>\n",
              "    <tr>\n",
              "      <th>308</th>\n",
              "      <td>45.252792</td>\n",
              "      <td>8.693157</td>\n",
              "      <td>41.583126</td>\n",
              "      <td>36.559635</td>\n",
              "      <td>118.545842</td>\n",
              "      <td>0.214750</td>\n",
              "      <td>1</td>\n",
              "    </tr>\n",
              "    <tr>\n",
              "      <th>309</th>\n",
              "      <td>33.841641</td>\n",
              "      <td>5.073991</td>\n",
              "      <td>36.641233</td>\n",
              "      <td>28.767649</td>\n",
              "      <td>123.945244</td>\n",
              "      <td>-0.199249</td>\n",
              "      <td>1</td>\n",
              "    </tr>\n",
              "  </tbody>\n",
              "</table>\n",
              "<p>310 rows × 7 columns</p>\n",
              "</div>"
            ],
            "text/plain": [
              "     pelvic_incidence  pelvic_tilt numeric  ...  degree_spondylolisthesis  class\n",
              "0           63.027818            22.552586  ...                 -0.254400      0\n",
              "1           39.056951            10.060991  ...                  4.564259      0\n",
              "2           68.832021            22.218482  ...                 -3.530317      0\n",
              "3           69.297008            24.652878  ...                 11.211523      0\n",
              "4           49.712859             9.652075  ...                  7.918501      0\n",
              "..                ...                  ...  ...                       ...    ...\n",
              "305         47.903565            13.616688  ...                 -4.245395      1\n",
              "306         53.936748            20.721496  ...                 -0.421010      1\n",
              "307         61.446597            22.694968  ...                 -2.707880      1\n",
              "308         45.252792             8.693157  ...                  0.214750      1\n",
              "309         33.841641             5.073991  ...                 -0.199249      1\n",
              "\n",
              "[310 rows x 7 columns]"
            ]
          },
          "metadata": {
            "tags": []
          },
          "execution_count": 9
        }
      ]
    },
    {
      "cell_type": "markdown",
      "metadata": {
        "id": "qfuI6PTvrv1_"
      },
      "source": [
        "- Datamızdan class değişkenimizi çıkaracağız"
      ]
    },
    {
      "cell_type": "code",
      "metadata": {
        "colab": {
          "base_uri": "https://localhost:8080/",
          "height": 402
        },
        "id": "cPY18rw4rzVr",
        "outputId": "237a17b2-3f69-4c66-d69e-cbfb88687631"
      },
      "source": [
        "data = data.drop('class',axis=1)\r\n",
        "\r\n",
        "data"
      ],
      "execution_count": 10,
      "outputs": [
        {
          "output_type": "execute_result",
          "data": {
            "text/html": [
              "<div>\n",
              "<style scoped>\n",
              "    .dataframe tbody tr th:only-of-type {\n",
              "        vertical-align: middle;\n",
              "    }\n",
              "\n",
              "    .dataframe tbody tr th {\n",
              "        vertical-align: top;\n",
              "    }\n",
              "\n",
              "    .dataframe thead th {\n",
              "        text-align: right;\n",
              "    }\n",
              "</style>\n",
              "<table border=\"1\" class=\"dataframe\">\n",
              "  <thead>\n",
              "    <tr style=\"text-align: right;\">\n",
              "      <th></th>\n",
              "      <th>pelvic_incidence</th>\n",
              "      <th>pelvic_tilt numeric</th>\n",
              "      <th>lumbar_lordosis_angle</th>\n",
              "      <th>sacral_slope</th>\n",
              "      <th>pelvic_radius</th>\n",
              "      <th>degree_spondylolisthesis</th>\n",
              "    </tr>\n",
              "  </thead>\n",
              "  <tbody>\n",
              "    <tr>\n",
              "      <th>0</th>\n",
              "      <td>63.027818</td>\n",
              "      <td>22.552586</td>\n",
              "      <td>39.609117</td>\n",
              "      <td>40.475232</td>\n",
              "      <td>98.672917</td>\n",
              "      <td>-0.254400</td>\n",
              "    </tr>\n",
              "    <tr>\n",
              "      <th>1</th>\n",
              "      <td>39.056951</td>\n",
              "      <td>10.060991</td>\n",
              "      <td>25.015378</td>\n",
              "      <td>28.995960</td>\n",
              "      <td>114.405425</td>\n",
              "      <td>4.564259</td>\n",
              "    </tr>\n",
              "    <tr>\n",
              "      <th>2</th>\n",
              "      <td>68.832021</td>\n",
              "      <td>22.218482</td>\n",
              "      <td>50.092194</td>\n",
              "      <td>46.613539</td>\n",
              "      <td>105.985135</td>\n",
              "      <td>-3.530317</td>\n",
              "    </tr>\n",
              "    <tr>\n",
              "      <th>3</th>\n",
              "      <td>69.297008</td>\n",
              "      <td>24.652878</td>\n",
              "      <td>44.311238</td>\n",
              "      <td>44.644130</td>\n",
              "      <td>101.868495</td>\n",
              "      <td>11.211523</td>\n",
              "    </tr>\n",
              "    <tr>\n",
              "      <th>4</th>\n",
              "      <td>49.712859</td>\n",
              "      <td>9.652075</td>\n",
              "      <td>28.317406</td>\n",
              "      <td>40.060784</td>\n",
              "      <td>108.168725</td>\n",
              "      <td>7.918501</td>\n",
              "    </tr>\n",
              "    <tr>\n",
              "      <th>...</th>\n",
              "      <td>...</td>\n",
              "      <td>...</td>\n",
              "      <td>...</td>\n",
              "      <td>...</td>\n",
              "      <td>...</td>\n",
              "      <td>...</td>\n",
              "    </tr>\n",
              "    <tr>\n",
              "      <th>305</th>\n",
              "      <td>47.903565</td>\n",
              "      <td>13.616688</td>\n",
              "      <td>36.000000</td>\n",
              "      <td>34.286877</td>\n",
              "      <td>117.449062</td>\n",
              "      <td>-4.245395</td>\n",
              "    </tr>\n",
              "    <tr>\n",
              "      <th>306</th>\n",
              "      <td>53.936748</td>\n",
              "      <td>20.721496</td>\n",
              "      <td>29.220534</td>\n",
              "      <td>33.215251</td>\n",
              "      <td>114.365845</td>\n",
              "      <td>-0.421010</td>\n",
              "    </tr>\n",
              "    <tr>\n",
              "      <th>307</th>\n",
              "      <td>61.446597</td>\n",
              "      <td>22.694968</td>\n",
              "      <td>46.170347</td>\n",
              "      <td>38.751628</td>\n",
              "      <td>125.670725</td>\n",
              "      <td>-2.707880</td>\n",
              "    </tr>\n",
              "    <tr>\n",
              "      <th>308</th>\n",
              "      <td>45.252792</td>\n",
              "      <td>8.693157</td>\n",
              "      <td>41.583126</td>\n",
              "      <td>36.559635</td>\n",
              "      <td>118.545842</td>\n",
              "      <td>0.214750</td>\n",
              "    </tr>\n",
              "    <tr>\n",
              "      <th>309</th>\n",
              "      <td>33.841641</td>\n",
              "      <td>5.073991</td>\n",
              "      <td>36.641233</td>\n",
              "      <td>28.767649</td>\n",
              "      <td>123.945244</td>\n",
              "      <td>-0.199249</td>\n",
              "    </tr>\n",
              "  </tbody>\n",
              "</table>\n",
              "<p>310 rows × 6 columns</p>\n",
              "</div>"
            ],
            "text/plain": [
              "     pelvic_incidence  ...  degree_spondylolisthesis\n",
              "0           63.027818  ...                 -0.254400\n",
              "1           39.056951  ...                  4.564259\n",
              "2           68.832021  ...                 -3.530317\n",
              "3           69.297008  ...                 11.211523\n",
              "4           49.712859  ...                  7.918501\n",
              "..                ...  ...                       ...\n",
              "305         47.903565  ...                 -4.245395\n",
              "306         53.936748  ...                 -0.421010\n",
              "307         61.446597  ...                 -2.707880\n",
              "308         45.252792  ...                  0.214750\n",
              "309         33.841641  ...                 -0.199249\n",
              "\n",
              "[310 rows x 6 columns]"
            ]
          },
          "metadata": {
            "tags": []
          },
          "execution_count": 10
        }
      ]
    },
    {
      "cell_type": "markdown",
      "metadata": {
        "id": "NqCBIhrKsGeP"
      },
      "source": [
        "- Datamızı Train ve Test seti olarak ayırıyoruz "
      ]
    },
    {
      "cell_type": "code",
      "metadata": {
        "id": "l-FlGKcLsN1v"
      },
      "source": [
        "from sklearn.model_selection import train_test_split\r\n",
        "\r\n",
        "x_train,x_test,y_train,y_test = train_test_split(data,kat_df,test_size=0.30,random_state=18)"
      ],
      "execution_count": 11,
      "outputs": []
    },
    {
      "cell_type": "code",
      "metadata": {
        "colab": {
          "base_uri": "https://localhost:8080/"
        },
        "id": "nGhjIdXgsngt",
        "outputId": "79ea71dd-71c2-4c9b-b986-6bae1fedb59c"
      },
      "source": [
        "print(\"x_train :\" + str(x_train.shape))\r\n",
        "print(\"x_test :\" + str(x_test.shape))\r\n",
        "print(\"y_train :\" + str(y_train.shape))\r\n",
        "print(\"y_test :\" + str(y_test.shape))"
      ],
      "execution_count": 12,
      "outputs": [
        {
          "output_type": "stream",
          "text": [
            "x_train :(217, 6)\n",
            "x_test :(93, 6)\n",
            "y_train :(217,)\n",
            "y_test :(93,)\n"
          ],
          "name": "stdout"
        }
      ]
    },
    {
      "cell_type": "markdown",
      "metadata": {
        "id": "ffRR3H9BtEZW"
      },
      "source": [
        "- Bazı algoritmalarımız için x_train ve x_test veri setlerimize Standartlaştırma işlemi uygulamamız lazım"
      ]
    },
    {
      "cell_type": "code",
      "metadata": {
        "id": "MR9yNMw8tv9V"
      },
      "source": [
        "from sklearn.preprocessing import StandardScaler\r\n",
        "\r\n",
        "scaler = StandardScaler()"
      ],
      "execution_count": 13,
      "outputs": []
    },
    {
      "cell_type": "markdown",
      "metadata": {
        "id": "h3g9XFZYt2Yq"
      },
      "source": [
        "- x_train ve x_test veri setlerimizi standartlaştırma işlemi uyguluyoruz"
      ]
    },
    {
      "cell_type": "code",
      "metadata": {
        "id": "2AuMFFfxt9Uy"
      },
      "source": [
        "x_train_scaled = scaler.fit_transform(x_train)\r\n",
        "x_test_scaled = scaler.transform(x_test)"
      ],
      "execution_count": 14,
      "outputs": []
    },
    {
      "cell_type": "code",
      "metadata": {
        "colab": {
          "base_uri": "https://localhost:8080/"
        },
        "id": "j4fhR40aucVA",
        "outputId": "6b151052-d1ff-4e39-cc83-c621d3c10118"
      },
      "source": [
        "x_train_scaled"
      ],
      "execution_count": 15,
      "outputs": [
        {
          "output_type": "execute_result",
          "data": {
            "text/plain": [
              "array([[ 1.23135028,  1.12008762,  1.34235011,  0.77362548, -0.09684902,\n",
              "         1.13151353],\n",
              "       [-0.41249362,  0.13137564, -1.05853989, -0.65710361,  0.24888775,\n",
              "        -0.70079055],\n",
              "       [-0.9272447 , -0.7555565 , -0.41585952, -0.65161459,  0.8766769 ,\n",
              "         0.32117844],\n",
              "       ...,\n",
              "       [-0.36142661, -0.57091186, -0.61274998, -0.03686555, -0.05195944,\n",
              "         0.41745169],\n",
              "       [ 0.36101131, -0.11596814, -0.07048853,  0.57586914,  1.43809038,\n",
              "        -0.7125783 ],\n",
              "       [ 0.31595755,  0.29544568, -1.11556347,  0.19219428,  0.78907842,\n",
              "        -0.82242116]])"
            ]
          },
          "metadata": {
            "tags": []
          },
          "execution_count": 15
        }
      ]
    },
    {
      "cell_type": "code",
      "metadata": {
        "id": "YHSqkDGmuNl2"
      },
      "source": [
        "x_test_scaled"
      ],
      "execution_count": null,
      "outputs": []
    },
    {
      "cell_type": "markdown",
      "metadata": {
        "id": "CYBvRGTWcD5X"
      },
      "source": [
        "# KNN \r\n",
        "\r\n",
        "- KNN algoritması sınıflandırma yaparken yeni verimizin çevresindeki en yakın , bizim belirlediğimiz k sınıf sayısının sıklığına göre sınıflandırm yapar\r\n",
        "- Çevresindeki değerlere uzaklık hesabı yapar.Uzaklık hesabı yapacağı için verilerimizi standartlaştırma işlemine sokarız"
      ]
    },
    {
      "cell_type": "code",
      "metadata": {
        "id": "MLS2bTAEcSjo"
      },
      "source": [
        "from sklearn.neighbors import KNeighborsClassifier\r\n",
        "\r\n",
        "knn_model = KNeighborsClassifier()"
      ],
      "execution_count": 16,
      "outputs": []
    },
    {
      "cell_type": "markdown",
      "metadata": {
        "id": "FftcFB6aez5W"
      },
      "source": [
        "- Modelimizi, Standartlaştırma yaptığımız x_train_scaled ve y_train veri setimiz ile fit edip, oluşturuyoruz"
      ]
    },
    {
      "cell_type": "code",
      "metadata": {
        "colab": {
          "base_uri": "https://localhost:8080/"
        },
        "id": "vnBXgVXRfCiK",
        "outputId": "f494e12d-eb75-4e7f-c2e8-381545a3ca72"
      },
      "source": [
        "knn_model.fit(x_train_scaled,y_train)"
      ],
      "execution_count": 17,
      "outputs": [
        {
          "output_type": "execute_result",
          "data": {
            "text/plain": [
              "KNeighborsClassifier(algorithm='auto', leaf_size=30, metric='minkowski',\n",
              "                     metric_params=None, n_jobs=None, n_neighbors=5, p=2,\n",
              "                     weights='uniform')"
            ]
          },
          "metadata": {
            "tags": []
          },
          "execution_count": 17
        }
      ]
    },
    {
      "cell_type": "markdown",
      "metadata": {
        "id": "o-DGAxK1fGlG"
      },
      "source": [
        "- Modelimizi kullanarak tahmin modelleleri elde ediyoruz"
      ]
    },
    {
      "cell_type": "code",
      "metadata": {
        "id": "S_qeWOwOfMTu"
      },
      "source": [
        "y_pred = knn_model.predict(x_test_scaled)"
      ],
      "execution_count": 18,
      "outputs": []
    },
    {
      "cell_type": "markdown",
      "metadata": {
        "id": "cOQQSZ5Mf0un"
      },
      "source": [
        "- Modelimizin doğruluk oranına bakalım"
      ]
    },
    {
      "cell_type": "code",
      "metadata": {
        "colab": {
          "base_uri": "https://localhost:8080/"
        },
        "id": "6zVSxEbFf3o2",
        "outputId": "c3b75ef3-a651-4683-f121-66c9e0de7709"
      },
      "source": [
        "from sklearn.metrics import accuracy_score\r\n",
        "\r\n",
        "accuracy_score(y_pred,y_test)"
      ],
      "execution_count": 19,
      "outputs": [
        {
          "output_type": "execute_result",
          "data": {
            "text/plain": [
              "0.7741935483870968"
            ]
          },
          "metadata": {
            "tags": []
          },
          "execution_count": 19
        }
      ]
    },
    {
      "cell_type": "markdown",
      "metadata": {
        "id": "4CMTIS9qgCFy"
      },
      "source": [
        "- Confusion matrix ile model sonuçlarımızı değerlendirelim"
      ]
    },
    {
      "cell_type": "code",
      "metadata": {
        "colab": {
          "base_uri": "https://localhost:8080/",
          "height": 265
        },
        "id": "048PK5I8gJFY",
        "outputId": "032cbffd-fcac-46a6-ce21-eacab565b533"
      },
      "source": [
        "from sklearn.metrics import confusion_matrix\r\n",
        "import seaborn as sns \r\n",
        "\r\n",
        "cm=confusion_matrix(y_test,y_pred)\r\n",
        "sns.heatmap(cm,annot=True);"
      ],
      "execution_count": 20,
      "outputs": [
        {
          "output_type": "display_data",
          "data": {
            "image/png": "[encoded data removed]",
            "text/plain": [
              "<Figure size 432x288 with 2 Axes>"
            ]
          },
          "metadata": {
            "tags": [],
            "needs_background": "light"
          }
        }
      ]
    },
    {
      "cell_type": "markdown",
      "metadata": {
        "id": "lzf3dMlziFh5"
      },
      "source": [
        "## Model Tuning \r\n",
        "\r\n",
        "- KNN'de optimize edeceğimiz hiperparametre değerimiz \"**k**\" sayısıdır. Yani KNN modelimizin **\"n_neighbors\"** parametresidir.\r\n",
        "\r\n",
        "- Optimize etmesini istediğimiz değerleri verirken ;\r\n",
        "  - Algortimanın ön tanımlı (**default**) değerlerinden yararlanabiliriz\r\n",
        "  - **n_neighbors** parametresi'nin ön tanımlı değeri 5'tir."
      ]
    },
    {
      "cell_type": "code",
      "metadata": {
        "colab": {
          "base_uri": "https://localhost:8080/"
        },
        "id": "WIfaRKlqiH4g",
        "outputId": "5b78992d-840e-414a-86e1-bfec342d0895"
      },
      "source": [
        "knn_model"
      ],
      "execution_count": 21,
      "outputs": [
        {
          "output_type": "execute_result",
          "data": {
            "text/plain": [
              "KNeighborsClassifier(algorithm='auto', leaf_size=30, metric='minkowski',\n",
              "                     metric_params=None, n_jobs=None, n_neighbors=5, p=2,\n",
              "                     weights='uniform')"
            ]
          },
          "metadata": {
            "tags": []
          },
          "execution_count": 21
        }
      ]
    },
    {
      "cell_type": "markdown",
      "metadata": {
        "id": "mNCKte4fkmex"
      },
      "source": [
        "- Optimize edeceğimiz n_neighbors parametresine denemesini istediğimiz değer aralıkları veriyoruz"
      ]
    },
    {
      "cell_type": "code",
      "metadata": {
        "id": "qFjbZiLnk8Ya"
      },
      "source": [
        "import numpy as np\r\n",
        "\r\n",
        "knn_params = {'n_neighbors':np.arange(1,50)}"
      ],
      "execution_count": 22,
      "outputs": []
    },
    {
      "cell_type": "markdown",
      "metadata": {
        "id": "rp-bxBKAlLV1"
      },
      "source": [
        "- Bu değer aralıklarını denemesini ve modelimiz için en iyi **n_neighbors** parametre değerini bize vermesi için ;\r\n",
        "\r\n",
        "  - **GridSearchCV** metodunu kullanacağız\r\n",
        "\r\n",
        "- **cv=10** diyerek 10 katlı Cross-validation uygulamış oluyoruz"
      ]
    },
    {
      "cell_type": "code",
      "metadata": {
        "id": "RrwtcLImlbmO"
      },
      "source": [
        "from sklearn.model_selection import GridSearchCV\r\n",
        "\r\n",
        "knn_cv = GridSearchCV(estimator = knn_model ,param_grid= knn_params , cv=10,verbose=2)"
      ],
      "execution_count": 23,
      "outputs": []
    },
    {
      "cell_type": "markdown",
      "metadata": {
        "id": "RcTjLclEmOMc"
      },
      "source": [
        "- GridSearchCV metodu ile oluşturacağımız modelimizi fit ediyoruz"
      ]
    },
    {
      "cell_type": "code",
      "metadata": {
        "colab": {
          "base_uri": "https://localhost:8080/"
        },
        "id": "hQjbViYKmT5h",
        "outputId": "a193fe11-34dd-4c61-88cb-a58dc23d7245"
      },
      "source": [
        "knn_cv.fit(x_train,y_train)"
      ],
      "execution_count": 24,
      "outputs": [
        {
          "output_type": "stream",
          "text": [
            "Fitting 10 folds for each of 49 candidates, totalling 490 fits\n",
            "[CV] n_neighbors=1 ...................................................\n",
            "[CV] .................................... n_neighbors=1, total=   0.0s\n",
            "[CV] n_neighbors=1 ...................................................\n",
            "[CV] .................................... n_neighbors=1, total=   0.0s\n",
            "[CV] n_neighbors=1 ...................................................\n",
            "[CV] .................................... n_neighbors=1, total=   0.0s\n",
            "[CV] n_neighbors=1 ...................................................\n",
            "[CV] .................................... n_neighbors=1, total=   0.0s\n",
            "[CV] n_neighbors=1 ...................................................\n",
            "[CV] .................................... n_neighbors=1, total=   0.0s\n",
            "[CV] n_neighbors=1 ...................................................\n",
            "[CV] .................................... n_neighbors=1, total=   0.0s\n",
            "[CV] n_neighbors=1 ...................................................\n",
            "[CV] .................................... n_neighbors=1, total=   0.0s\n",
            "[CV] n_neighbors=1 ...................................................\n",
            "[CV] .................................... n_neighbors=1, total=   0.0s\n",
            "[CV] n_neighbors=1 ...................................................\n",
            "[CV] .................................... n_neighbors=1, total=   0.0s\n",
            "[CV] n_neighbors=1 ...................................................\n",
            "[CV] .................................... n_neighbors=1, total=   0.0s\n",
            "[CV] n_neighbors=2 ...................................................\n",
            "[CV] .................................... n_neighbors=2, total=   0.0s\n",
            "[CV] n_neighbors=2 ...................................................\n",
            "[CV] .................................... n_neighbors=2, total=   0.0s\n",
            "[CV] n_neighbors=2 ...................................................\n",
            "[CV] .................................... n_neighbors=2, total=   0.0s\n",
            "[CV] n_neighbors=2 ...................................................\n",
            "[CV] .................................... n_neighbors=2, total=   0.0s\n",
            "[CV] n_neighbors=2 ...................................................\n",
            "[CV] .................................... n_neighbors=2, total=   0.0s\n",
            "[CV] n_neighbors=2 ...................................................\n",
            "[CV] .................................... n_neighbors=2, total=   0.0s\n",
            "[CV] n_neighbors=2 ...................................................\n",
            "[CV] .................................... n_neighbors=2, total=   0.0s\n",
            "[CV] n_neighbors=2 ...................................................\n",
            "[CV] .................................... n_neighbors=2, total=   0.0s\n",
            "[CV] n_neighbors=2 ...................................................\n",
            "[CV] .................................... n_neighbors=2, total=   0.0s\n",
            "[CV] n_neighbors=2 ...................................................\n",
            "[CV] .................................... n_neighbors=2, total=   0.0s\n",
            "[CV] n_neighbors=3 ...................................................\n",
            "[CV] .................................... n_neighbors=3, total=   0.0s\n",
            "[CV] n_neighbors=3 ...................................................\n",
            "[CV] .................................... n_neighbors=3, total=   0.0s\n",
            "[CV] n_neighbors=3 ...................................................\n",
            "[CV] .................................... n_neighbors=3, total=   0.0s\n",
            "[CV] n_neighbors=3 ...................................................\n",
            "[CV] .................................... n_neighbors=3, total=   0.0s\n",
            "[CV] n_neighbors=3 ...................................................\n",
            "[CV] .................................... n_neighbors=3, total=   0.0s\n",
            "[CV] n_neighbors=3 ...................................................\n",
            "[CV] .................................... n_neighbors=3, total=   0.0s\n",
            "[CV] n_neighbors=3 ...................................................\n",
            "[CV] .................................... n_neighbors=3, total=   0.0s\n",
            "[CV] n_neighbors=3 ...................................................\n"
          ],
          "name": "stdout"
        },
        {
          "output_type": "stream",
          "text": [
            "[Parallel(n_jobs=1)]: Using backend SequentialBackend with 1 concurrent workers.\n",
            "[Parallel(n_jobs=1)]: Done   1 out of   1 | elapsed:    0.0s remaining:    0.0s\n"
          ],
          "name": "stderr"
        },
        {
          "output_type": "stream",
          "text": [
            "[CV] .................................... n_neighbors=3, total=   0.0s\n",
            "[CV] n_neighbors=3 ...................................................\n",
            "[CV] .................................... n_neighbors=3, total=   0.0s\n",
            "[CV] n_neighbors=3 ...................................................\n",
            "[CV] .................................... n_neighbors=3, total=   0.0s\n",
            "[CV] n_neighbors=4 ...................................................\n",
            "[CV] .................................... n_neighbors=4, total=   0.0s\n",
            "[CV] n_neighbors=4 ...................................................\n",
            "[CV] .................................... n_neighbors=4, total=   0.0s\n",
            "[CV] n_neighbors=4 ...................................................\n",
            "[CV] .................................... n_neighbors=4, total=   0.0s\n",
            "[CV] n_neighbors=4 ...................................................\n",
            "[CV] .................................... n_neighbors=4, total=   0.0s\n",
            "[CV] n_neighbors=4 ...................................................\n",
            "[CV] .................................... n_neighbors=4, total=   0.0s\n",
            "[CV] n_neighbors=4 ...................................................\n",
            "[CV] .................................... n_neighbors=4, total=   0.0s\n",
            "[CV] n_neighbors=4 ...................................................\n",
            "[CV] .................................... n_neighbors=4, total=   0.0s\n",
            "[CV] n_neighbors=4 ...................................................\n",
            "[CV] .................................... n_neighbors=4, total=   0.0s\n",
            "[CV] n_neighbors=4 ...................................................\n",
            "[CV] .................................... n_neighbors=4, total=   0.0s\n",
            "[CV] n_neighbors=4 ...................................................\n",
            "[CV] .................................... n_neighbors=4, total=   0.0s\n",
            "[CV] n_neighbors=5 ...................................................\n",
            "[CV] .................................... n_neighbors=5, total=   0.0s\n",
            "[CV] n_neighbors=5 ...................................................\n",
            "[CV] .................................... n_neighbors=5, total=   0.0s\n",
            "[CV] n_neighbors=5 ...................................................\n",
            "[CV] .................................... n_neighbors=5, total=   0.0s\n",
            "[CV] n_neighbors=5 ...................................................\n",
            "[CV] .................................... n_neighbors=5, total=   0.0s\n",
            "[CV] n_neighbors=5 ...................................................\n",
            "[CV] .................................... n_neighbors=5, total=   0.0s\n",
            "[CV] n_neighbors=5 ...................................................\n",
            "[CV] .................................... n_neighbors=5, total=   0.0s\n",
            "[CV] n_neighbors=5 ...................................................\n",
            "[CV] .................................... n_neighbors=5, total=   0.0s\n",
            "[CV] n_neighbors=5 ...................................................\n",
            "[CV] .................................... n_neighbors=5, total=   0.0s\n",
            "[CV] n_neighbors=5 ...................................................\n",
            "[CV] .................................... n_neighbors=5, total=   0.0s\n",
            "[CV] n_neighbors=5 ...................................................\n",
            "[CV] .................................... n_neighbors=5, total=   0.0s\n",
            "[CV] n_neighbors=6 ...................................................\n",
            "[CV] .................................... n_neighbors=6, total=   0.0s\n",
            "[CV] n_neighbors=6 ...................................................\n",
            "[CV] .................................... n_neighbors=6, total=   0.0s\n",
            "[CV] n_neighbors=6 ...................................................\n",
            "[CV] .................................... n_neighbors=6, total=   0.0s\n",
            "[CV] n_neighbors=6 ...................................................\n",
            "[CV] .................................... n_neighbors=6, total=   0.0s\n",
            "[CV] n_neighbors=6 ...................................................\n",
            "[CV] .................................... n_neighbors=6, total=   0.0s\n",
            "[CV] n_neighbors=6 ...................................................\n",
            "[CV] .................................... n_neighbors=6, total=   0.0s\n",
            "[CV] n_neighbors=6 ...................................................\n",
            "[CV] .................................... n_neighbors=6, total=   0.0s\n",
            "[CV] n_neighbors=6 ...................................................\n",
            "[CV] .................................... n_neighbors=6, total=   0.0s\n",
            "[CV] n_neighbors=6 ...................................................\n",
            "[CV] .................................... n_neighbors=6, total=   0.0s\n",
            "[CV] n_neighbors=6 ...................................................\n",
            "[CV] .................................... n_neighbors=6, total=   0.0s\n",
            "[CV] n_neighbors=7 ...................................................\n",
            "[CV] .................................... n_neighbors=7, total=   0.0s\n",
            "[CV] n_neighbors=7 ...................................................\n",
            "[CV] .................................... n_neighbors=7, total=   0.0s\n",
            "[CV] n_neighbors=7 ...................................................\n",
            "[CV] .................................... n_neighbors=7, total=   0.0s\n",
            "[CV] n_neighbors=7 ...................................................\n",
            "[CV] .................................... n_neighbors=7, total=   0.0s\n",
            "[CV] n_neighbors=7 ...................................................\n",
            "[CV] .................................... n_neighbors=7, total=   0.0s\n",
            "[CV] n_neighbors=7 ...................................................\n",
            "[CV] .................................... n_neighbors=7, total=   0.0s\n",
            "[CV] n_neighbors=7 ...................................................\n",
            "[CV] .................................... n_neighbors=7, total=   0.0s\n",
            "[CV] n_neighbors=7 ...................................................\n",
            "[CV] .................................... n_neighbors=7, total=   0.0s\n",
            "[CV] n_neighbors=7 ...................................................\n",
            "[CV] .................................... n_neighbors=7, total=   0.0s\n",
            "[CV] n_neighbors=7 ...................................................\n",
            "[CV] .................................... n_neighbors=7, total=   0.0s\n",
            "[CV] n_neighbors=8 ...................................................\n",
            "[CV] .................................... n_neighbors=8, total=   0.0s\n",
            "[CV] n_neighbors=8 ...................................................\n",
            "[CV] .................................... n_neighbors=8, total=   0.0s\n",
            "[CV] n_neighbors=8 ...................................................\n",
            "[CV] .................................... n_neighbors=8, total=   0.0s\n",
            "[CV] n_neighbors=8 ...................................................\n",
            "[CV] .................................... n_neighbors=8, total=   0.0s\n",
            "[CV] n_neighbors=8 ...................................................\n",
            "[CV] .................................... n_neighbors=8, total=   0.0s\n",
            "[CV] n_neighbors=8 ...................................................\n",
            "[CV] .................................... n_neighbors=8, total=   0.0s\n",
            "[CV] n_neighbors=8 ...................................................\n",
            "[CV] .................................... n_neighbors=8, total=   0.0s\n",
            "[CV] n_neighbors=8 ...................................................\n",
            "[CV] .................................... n_neighbors=8, total=   0.0s\n",
            "[CV] n_neighbors=8 ...................................................\n",
            "[CV] .................................... n_neighbors=8, total=   0.0s\n",
            "[CV] n_neighbors=8 ...................................................\n",
            "[CV] .................................... n_neighbors=8, total=   0.0s\n",
            "[CV] n_neighbors=9 ...................................................\n",
            "[CV] .................................... n_neighbors=9, total=   0.0s\n",
            "[CV] n_neighbors=9 ...................................................\n",
            "[CV] .................................... n_neighbors=9, total=   0.0s\n",
            "[CV] n_neighbors=9 ...................................................\n",
            "[CV] .................................... n_neighbors=9, total=   0.0s\n",
            "[CV] n_neighbors=9 ...................................................\n",
            "[CV] .................................... n_neighbors=9, total=   0.0s\n",
            "[CV] n_neighbors=9 ...................................................\n",
            "[CV] .................................... n_neighbors=9, total=   0.0s\n",
            "[CV] n_neighbors=9 ...................................................\n",
            "[CV] .................................... n_neighbors=9, total=   0.0s\n",
            "[CV] n_neighbors=9 ...................................................\n",
            "[CV] .................................... n_neighbors=9, total=   0.0s\n",
            "[CV] n_neighbors=9 ...................................................\n",
            "[CV] .................................... n_neighbors=9, total=   0.0s\n",
            "[CV] n_neighbors=9 ...................................................\n",
            "[CV] .................................... n_neighbors=9, total=   0.0s\n",
            "[CV] n_neighbors=9 ...................................................\n",
            "[CV] .................................... n_neighbors=9, total=   0.0s\n",
            "[CV] n_neighbors=10 ..................................................\n",
            "[CV] ................................... n_neighbors=10, total=   0.0s\n",
            "[CV] n_neighbors=10 ..................................................\n",
            "[CV] ................................... n_neighbors=10, total=   0.0s\n",
            "[CV] n_neighbors=10 ..................................................\n",
            "[CV] ................................... n_neighbors=10, total=   0.0s\n",
            "[CV] n_neighbors=10 ..................................................\n",
            "[CV] ................................... n_neighbors=10, total=   0.0s\n",
            "[CV] n_neighbors=10 ..................................................\n",
            "[CV] ................................... n_neighbors=10, total=   0.0s\n",
            "[CV] n_neighbors=10 ..................................................\n",
            "[CV] ................................... n_neighbors=10, total=   0.0s\n",
            "[CV] n_neighbors=10 ..................................................\n",
            "[CV] ................................... n_neighbors=10, total=   0.0s\n",
            "[CV] n_neighbors=10 ..................................................\n",
            "[CV] ................................... n_neighbors=10, total=   0.0s\n",
            "[CV] n_neighbors=10 ..................................................\n",
            "[CV] ................................... n_neighbors=10, total=   0.0s\n",
            "[CV] n_neighbors=10 ..................................................\n",
            "[CV] ................................... n_neighbors=10, total=   0.0s\n",
            "[CV] n_neighbors=11 ..................................................\n",
            "[CV] ................................... n_neighbors=11, total=   0.0s\n",
            "[CV] n_neighbors=11 ..................................................\n",
            "[CV] ................................... n_neighbors=11, total=   0.0s\n",
            "[CV] n_neighbors=11 ..................................................\n",
            "[CV] ................................... n_neighbors=11, total=   0.0s\n",
            "[CV] n_neighbors=11 ..................................................\n",
            "[CV] ................................... n_neighbors=11, total=   0.0s\n",
            "[CV] n_neighbors=11 ..................................................\n",
            "[CV] ................................... n_neighbors=11, total=   0.0s\n",
            "[CV] n_neighbors=11 ..................................................\n",
            "[CV] ................................... n_neighbors=11, total=   0.0s\n",
            "[CV] n_neighbors=11 ..................................................\n",
            "[CV] ................................... n_neighbors=11, total=   0.0s\n",
            "[CV] n_neighbors=11 ..................................................\n",
            "[CV] ................................... n_neighbors=11, total=   0.0s\n",
            "[CV] n_neighbors=11 ..................................................\n",
            "[CV] ................................... n_neighbors=11, total=   0.0s\n",
            "[CV] n_neighbors=11 ..................................................\n",
            "[CV] ................................... n_neighbors=11, total=   0.0s\n",
            "[CV] n_neighbors=12 ..................................................\n",
            "[CV] ................................... n_neighbors=12, total=   0.0s\n",
            "[CV] n_neighbors=12 ..................................................\n",
            "[CV] ................................... n_neighbors=12, total=   0.0s\n",
            "[CV] n_neighbors=12 ..................................................\n",
            "[CV] ................................... n_neighbors=12, total=   0.0s\n",
            "[CV] n_neighbors=12 ..................................................\n",
            "[CV] ................................... n_neighbors=12, total=   0.0s\n",
            "[CV] n_neighbors=12 ..................................................\n",
            "[CV] ................................... n_neighbors=12, total=   0.0s\n",
            "[CV] n_neighbors=12 ..................................................\n",
            "[CV] ................................... n_neighbors=12, total=   0.0s\n",
            "[CV] n_neighbors=12 ..................................................\n",
            "[CV] ................................... n_neighbors=12, total=   0.0s\n",
            "[CV] n_neighbors=12 ..................................................\n",
            "[CV] ................................... n_neighbors=12, total=   0.0s\n",
            "[CV] n_neighbors=12 ..................................................\n",
            "[CV] ................................... n_neighbors=12, total=   0.0s\n",
            "[CV] n_neighbors=12 ..................................................\n",
            "[CV] ................................... n_neighbors=12, total=   0.0s\n",
            "[CV] n_neighbors=13 ..................................................\n",
            "[CV] ................................... n_neighbors=13, total=   0.0s\n",
            "[CV] n_neighbors=13 ..................................................\n",
            "[CV] ................................... n_neighbors=13, total=   0.0s\n",
            "[CV] n_neighbors=13 ..................................................\n",
            "[CV] ................................... n_neighbors=13, total=   0.0s\n",
            "[CV] n_neighbors=13 ..................................................\n",
            "[CV] ................................... n_neighbors=13, total=   0.0s\n",
            "[CV] n_neighbors=13 ..................................................\n",
            "[CV] ................................... n_neighbors=13, total=   0.0s\n",
            "[CV] n_neighbors=13 ..................................................\n",
            "[CV] ................................... n_neighbors=13, total=   0.0s\n",
            "[CV] n_neighbors=13 ..................................................\n",
            "[CV] ................................... n_neighbors=13, total=   0.0s\n",
            "[CV] n_neighbors=13 ..................................................\n",
            "[CV] ................................... n_neighbors=13, total=   0.0s\n",
            "[CV] n_neighbors=13 ..................................................\n",
            "[CV] ................................... n_neighbors=13, total=   0.0s\n",
            "[CV] n_neighbors=13 ..................................................\n",
            "[CV] ................................... n_neighbors=13, total=   0.0s\n",
            "[CV] n_neighbors=14 ..................................................\n",
            "[CV] ................................... n_neighbors=14, total=   0.0s\n",
            "[CV] n_neighbors=14 ..................................................\n",
            "[CV] ................................... n_neighbors=14, total=   0.0s\n",
            "[CV] n_neighbors=14 ..................................................\n",
            "[CV] ................................... n_neighbors=14, total=   0.0s\n",
            "[CV] n_neighbors=14 ..................................................\n",
            "[CV] ................................... n_neighbors=14, total=   0.0s\n",
            "[CV] n_neighbors=14 ..................................................\n",
            "[CV] ................................... n_neighbors=14, total=   0.0s\n",
            "[CV] n_neighbors=14 ..................................................\n",
            "[CV] ................................... n_neighbors=14, total=   0.0s\n",
            "[CV] n_neighbors=14 ..................................................\n",
            "[CV] ................................... n_neighbors=14, total=   0.0s\n",
            "[CV] n_neighbors=14 ..................................................\n",
            "[CV] ................................... n_neighbors=14, total=   0.0s\n",
            "[CV] n_neighbors=14 ..................................................\n",
            "[CV] ................................... n_neighbors=14, total=   0.0s\n",
            "[CV] n_neighbors=14 ..................................................\n",
            "[CV] ................................... n_neighbors=14, total=   0.0s\n",
            "[CV] n_neighbors=15 ..................................................\n",
            "[CV] ................................... n_neighbors=15, total=   0.0s\n",
            "[CV] n_neighbors=15 ..................................................\n",
            "[CV] ................................... n_neighbors=15, total=   0.0s\n",
            "[CV] n_neighbors=15 ..................................................\n",
            "[CV] ................................... n_neighbors=15, total=   0.0s\n",
            "[CV] n_neighbors=15 ..................................................\n",
            "[CV] ................................... n_neighbors=15, total=   0.0s\n",
            "[CV] n_neighbors=15 ..................................................\n",
            "[CV] ................................... n_neighbors=15, total=   0.0s\n",
            "[CV] n_neighbors=15 ..................................................\n",
            "[CV] ................................... n_neighbors=15, total=   0.0s\n",
            "[CV] n_neighbors=15 ..................................................\n",
            "[CV] ................................... n_neighbors=15, total=   0.0s\n",
            "[CV] n_neighbors=15 ..................................................\n",
            "[CV] ................................... n_neighbors=15, total=   0.0s\n",
            "[CV] n_neighbors=15 ..................................................\n",
            "[CV] ................................... n_neighbors=15, total=   0.0s\n",
            "[CV] n_neighbors=15 ..................................................\n",
            "[CV] ................................... n_neighbors=15, total=   0.0s\n",
            "[CV] n_neighbors=16 ..................................................\n",
            "[CV] ................................... n_neighbors=16, total=   0.0s\n",
            "[CV] n_neighbors=16 ..................................................\n",
            "[CV] ................................... n_neighbors=16, total=   0.0s\n",
            "[CV] n_neighbors=16 ..................................................\n",
            "[CV] ................................... n_neighbors=16, total=   0.0s\n",
            "[CV] n_neighbors=16 ..................................................\n",
            "[CV] ................................... n_neighbors=16, total=   0.0s\n",
            "[CV] n_neighbors=16 ..................................................\n",
            "[CV] ................................... n_neighbors=16, total=   0.0s\n",
            "[CV] n_neighbors=16 ..................................................\n",
            "[CV] ................................... n_neighbors=16, total=   0.0s\n",
            "[CV] n_neighbors=16 ..................................................\n",
            "[CV] ................................... n_neighbors=16, total=   0.0s\n",
            "[CV] n_neighbors=16 ..................................................\n",
            "[CV] ................................... n_neighbors=16, total=   0.0s\n",
            "[CV] n_neighbors=16 ..................................................\n",
            "[CV] ................................... n_neighbors=16, total=   0.0s\n",
            "[CV] n_neighbors=16 ..................................................\n",
            "[CV] ................................... n_neighbors=16, total=   0.0s\n",
            "[CV] n_neighbors=17 ..................................................\n",
            "[CV] ................................... n_neighbors=17, total=   0.0s\n",
            "[CV] n_neighbors=17 ..................................................\n",
            "[CV] ................................... n_neighbors=17, total=   0.0s\n",
            "[CV] n_neighbors=17 ..................................................\n",
            "[CV] ................................... n_neighbors=17, total=   0.0s\n",
            "[CV] n_neighbors=17 ..................................................\n",
            "[CV] ................................... n_neighbors=17, total=   0.0s\n",
            "[CV] n_neighbors=17 ..................................................\n",
            "[CV] ................................... n_neighbors=17, total=   0.0s\n",
            "[CV] n_neighbors=17 ..................................................\n",
            "[CV] ................................... n_neighbors=17, total=   0.0s\n",
            "[CV] n_neighbors=17 ..................................................\n",
            "[CV] ................................... n_neighbors=17, total=   0.0s\n",
            "[CV] n_neighbors=17 ..................................................\n",
            "[CV] ................................... n_neighbors=17, total=   0.0s\n",
            "[CV] n_neighbors=17 ..................................................\n",
            "[CV] ................................... n_neighbors=17, total=   0.0s\n",
            "[CV] n_neighbors=17 ..................................................\n",
            "[CV] ................................... n_neighbors=17, total=   0.0s\n",
            "[CV] n_neighbors=18 ..................................................\n",
            "[CV] ................................... n_neighbors=18, total=   0.0s\n",
            "[CV] n_neighbors=18 ..................................................\n",
            "[CV] ................................... n_neighbors=18, total=   0.0s\n",
            "[CV] n_neighbors=18 ..................................................\n",
            "[CV] ................................... n_neighbors=18, total=   0.0s\n",
            "[CV] n_neighbors=18 ..................................................\n",
            "[CV] ................................... n_neighbors=18, total=   0.0s\n",
            "[CV] n_neighbors=18 ..................................................\n",
            "[CV] ................................... n_neighbors=18, total=   0.0s\n",
            "[CV] n_neighbors=18 ..................................................\n",
            "[CV] ................................... n_neighbors=18, total=   0.0s\n",
            "[CV] n_neighbors=18 ..................................................\n",
            "[CV] ................................... n_neighbors=18, total=   0.0s\n",
            "[CV] n_neighbors=18 ..................................................\n",
            "[CV] ................................... n_neighbors=18, total=   0.0s\n",
            "[CV] n_neighbors=18 ..................................................\n",
            "[CV] ................................... n_neighbors=18, total=   0.0s\n",
            "[CV] n_neighbors=18 ..................................................\n",
            "[CV] ................................... n_neighbors=18, total=   0.0s\n",
            "[CV] n_neighbors=19 ..................................................\n",
            "[CV] ................................... n_neighbors=19, total=   0.0s\n",
            "[CV] n_neighbors=19 ..................................................\n",
            "[CV] ................................... n_neighbors=19, total=   0.0s\n",
            "[CV] n_neighbors=19 ..................................................\n",
            "[CV] ................................... n_neighbors=19, total=   0.0s\n",
            "[CV] n_neighbors=19 ..................................................\n",
            "[CV] ................................... n_neighbors=19, total=   0.0s\n",
            "[CV] n_neighbors=19 ..................................................\n",
            "[CV] ................................... n_neighbors=19, total=   0.0s\n",
            "[CV] n_neighbors=19 ..................................................\n",
            "[CV] ................................... n_neighbors=19, total=   0.0s\n",
            "[CV] n_neighbors=19 ..................................................\n",
            "[CV] ................................... n_neighbors=19, total=   0.0s\n",
            "[CV] n_neighbors=19 ..................................................\n",
            "[CV] ................................... n_neighbors=19, total=   0.0s\n",
            "[CV] n_neighbors=19 ..................................................\n",
            "[CV] ................................... n_neighbors=19, total=   0.0s\n",
            "[CV] n_neighbors=19 ..................................................\n",
            "[CV] ................................... n_neighbors=19, total=   0.0s\n",
            "[CV] n_neighbors=20 ..................................................\n",
            "[CV] ................................... n_neighbors=20, total=   0.0s\n",
            "[CV] n_neighbors=20 ..................................................\n",
            "[CV] ................................... n_neighbors=20, total=   0.0s\n",
            "[CV] n_neighbors=20 ..................................................\n",
            "[CV] ................................... n_neighbors=20, total=   0.0s\n",
            "[CV] n_neighbors=20 ..................................................\n",
            "[CV] ................................... n_neighbors=20, total=   0.0s\n",
            "[CV] n_neighbors=20 ..................................................\n",
            "[CV] ................................... n_neighbors=20, total=   0.0s\n",
            "[CV] n_neighbors=20 ..................................................\n",
            "[CV] ................................... n_neighbors=20, total=   0.0s\n",
            "[CV] n_neighbors=20 ..................................................\n",
            "[CV] ................................... n_neighbors=20, total=   0.0s\n",
            "[CV] n_neighbors=20 ..................................................\n",
            "[CV] ................................... n_neighbors=20, total=   0.0s\n",
            "[CV] n_neighbors=20 ..................................................\n",
            "[CV] ................................... n_neighbors=20, total=   0.0s\n",
            "[CV] n_neighbors=20 ..................................................\n",
            "[CV] ................................... n_neighbors=20, total=   0.0s\n",
            "[CV] n_neighbors=21 ..................................................\n",
            "[CV] ................................... n_neighbors=21, total=   0.0s\n",
            "[CV] n_neighbors=21 ..................................................\n",
            "[CV] ................................... n_neighbors=21, total=   0.0s\n",
            "[CV] n_neighbors=21 ..................................................\n",
            "[CV] ................................... n_neighbors=21, total=   0.0s\n",
            "[CV] n_neighbors=21 ..................................................\n",
            "[CV] ................................... n_neighbors=21, total=   0.0s\n",
            "[CV] n_neighbors=21 ..................................................\n",
            "[CV] ................................... n_neighbors=21, total=   0.0s\n",
            "[CV] n_neighbors=21 ..................................................\n",
            "[CV] ................................... n_neighbors=21, total=   0.0s\n",
            "[CV] n_neighbors=21 ..................................................\n",
            "[CV] ................................... n_neighbors=21, total=   0.0s\n",
            "[CV] n_neighbors=21 ..................................................\n",
            "[CV] ................................... n_neighbors=21, total=   0.0s\n",
            "[CV] n_neighbors=21 ..................................................\n",
            "[CV] ................................... n_neighbors=21, total=   0.0s\n",
            "[CV] n_neighbors=21 ..................................................\n",
            "[CV] ................................... n_neighbors=21, total=   0.0s\n",
            "[CV] n_neighbors=22 ..................................................\n",
            "[CV] ................................... n_neighbors=22, total=   0.0s\n",
            "[CV] n_neighbors=22 ..................................................\n",
            "[CV] ................................... n_neighbors=22, total=   0.0s\n",
            "[CV] n_neighbors=22 ..................................................\n",
            "[CV] ................................... n_neighbors=22, total=   0.0s\n",
            "[CV] n_neighbors=22 ..................................................\n",
            "[CV] ................................... n_neighbors=22, total=   0.0s\n",
            "[CV] n_neighbors=22 ..................................................\n",
            "[CV] ................................... n_neighbors=22, total=   0.0s\n",
            "[CV] n_neighbors=22 ..................................................\n",
            "[CV] ................................... n_neighbors=22, total=   0.0s\n",
            "[CV] n_neighbors=22 ..................................................\n",
            "[CV] ................................... n_neighbors=22, total=   0.0s\n",
            "[CV] n_neighbors=22 ..................................................\n",
            "[CV] ................................... n_neighbors=22, total=   0.0s\n",
            "[CV] n_neighbors=22 ..................................................\n",
            "[CV] ................................... n_neighbors=22, total=   0.0s\n",
            "[CV] n_neighbors=22 ..................................................\n",
            "[CV] ................................... n_neighbors=22, total=   0.0s\n",
            "[CV] n_neighbors=23 ..................................................\n",
            "[CV] ................................... n_neighbors=23, total=   0.0s\n",
            "[CV] n_neighbors=23 ..................................................\n",
            "[CV] ................................... n_neighbors=23, total=   0.0s\n",
            "[CV] n_neighbors=23 ..................................................\n",
            "[CV] ................................... n_neighbors=23, total=   0.0s\n",
            "[CV] n_neighbors=23 ..................................................\n",
            "[CV] ................................... n_neighbors=23, total=   0.0s\n",
            "[CV] n_neighbors=23 ..................................................\n",
            "[CV] ................................... n_neighbors=23, total=   0.0s\n",
            "[CV] n_neighbors=23 ..................................................\n",
            "[CV] ................................... n_neighbors=23, total=   0.0s\n",
            "[CV] n_neighbors=23 ..................................................\n",
            "[CV] ................................... n_neighbors=23, total=   0.0s\n",
            "[CV] n_neighbors=23 ..................................................\n",
            "[CV] ................................... n_neighbors=23, total=   0.0s\n",
            "[CV] n_neighbors=23 ..................................................\n",
            "[CV] ................................... n_neighbors=23, total=   0.0s\n",
            "[CV] n_neighbors=23 ..................................................\n",
            "[CV] ................................... n_neighbors=23, total=   0.0s\n",
            "[CV] n_neighbors=24 ..................................................\n",
            "[CV] ................................... n_neighbors=24, total=   0.0s\n",
            "[CV] n_neighbors=24 ..................................................\n",
            "[CV] ................................... n_neighbors=24, total=   0.0s\n",
            "[CV] n_neighbors=24 ..................................................\n",
            "[CV] ................................... n_neighbors=24, total=   0.0s\n",
            "[CV] n_neighbors=24 ..................................................\n",
            "[CV] ................................... n_neighbors=24, total=   0.0s\n",
            "[CV] n_neighbors=24 ..................................................\n",
            "[CV] ................................... n_neighbors=24, total=   0.0s\n",
            "[CV] n_neighbors=24 ..................................................\n",
            "[CV] ................................... n_neighbors=24, total=   0.0s\n",
            "[CV] n_neighbors=24 ..................................................\n",
            "[CV] ................................... n_neighbors=24, total=   0.0s\n",
            "[CV] n_neighbors=24 ..................................................\n",
            "[CV] ................................... n_neighbors=24, total=   0.0s\n",
            "[CV] n_neighbors=24 ..................................................\n",
            "[CV] ................................... n_neighbors=24, total=   0.0s\n",
            "[CV] n_neighbors=24 ..................................................\n",
            "[CV] ................................... n_neighbors=24, total=   0.0s\n",
            "[CV] n_neighbors=25 ..................................................\n",
            "[CV] ................................... n_neighbors=25, total=   0.0s\n",
            "[CV] n_neighbors=25 ..................................................\n",
            "[CV] ................................... n_neighbors=25, total=   0.0s\n",
            "[CV] n_neighbors=25 ..................................................\n",
            "[CV] ................................... n_neighbors=25, total=   0.0s\n",
            "[CV] n_neighbors=25 ..................................................\n",
            "[CV] ................................... n_neighbors=25, total=   0.0s\n",
            "[CV] n_neighbors=25 ..................................................\n",
            "[CV] ................................... n_neighbors=25, total=   0.0s\n",
            "[CV] n_neighbors=25 ..................................................\n",
            "[CV] ................................... n_neighbors=25, total=   0.0s\n",
            "[CV] n_neighbors=25 ..................................................\n",
            "[CV] ................................... n_neighbors=25, total=   0.0s\n",
            "[CV] n_neighbors=25 ..................................................\n",
            "[CV] ................................... n_neighbors=25, total=   0.0s\n",
            "[CV] n_neighbors=25 ..................................................\n",
            "[CV] ................................... n_neighbors=25, total=   0.0s\n",
            "[CV] n_neighbors=25 ..................................................\n",
            "[CV] ................................... n_neighbors=25, total=   0.0s\n",
            "[CV] n_neighbors=26 ..................................................\n",
            "[CV] ................................... n_neighbors=26, total=   0.0s\n",
            "[CV] n_neighbors=26 ..................................................\n",
            "[CV] ................................... n_neighbors=26, total=   0.0s\n",
            "[CV] n_neighbors=26 ..................................................\n",
            "[CV] ................................... n_neighbors=26, total=   0.0s\n",
            "[CV] n_neighbors=26 ..................................................\n",
            "[CV] ................................... n_neighbors=26, total=   0.0s\n",
            "[CV] n_neighbors=26 ..................................................\n",
            "[CV] ................................... n_neighbors=26, total=   0.0s\n",
            "[CV] n_neighbors=26 ..................................................\n",
            "[CV] ................................... n_neighbors=26, total=   0.0s\n",
            "[CV] n_neighbors=26 ..................................................\n",
            "[CV] ................................... n_neighbors=26, total=   0.0s\n",
            "[CV] n_neighbors=26 ..................................................\n",
            "[CV] ................................... n_neighbors=26, total=   0.0s\n",
            "[CV] n_neighbors=26 ..................................................\n",
            "[CV] ................................... n_neighbors=26, total=   0.0s\n",
            "[CV] n_neighbors=26 ..................................................\n",
            "[CV] ................................... n_neighbors=26, total=   0.0s\n",
            "[CV] n_neighbors=27 ..................................................\n",
            "[CV] ................................... n_neighbors=27, total=   0.0s\n",
            "[CV] n_neighbors=27 ..................................................\n",
            "[CV] ................................... n_neighbors=27, total=   0.0s\n",
            "[CV] n_neighbors=27 ..................................................\n",
            "[CV] ................................... n_neighbors=27, total=   0.0s\n",
            "[CV] n_neighbors=27 ..................................................\n",
            "[CV] ................................... n_neighbors=27, total=   0.0s\n",
            "[CV] n_neighbors=27 ..................................................\n",
            "[CV] ................................... n_neighbors=27, total=   0.0s\n",
            "[CV] n_neighbors=27 ..................................................\n",
            "[CV] ................................... n_neighbors=27, total=   0.0s\n",
            "[CV] n_neighbors=27 ..................................................\n",
            "[CV] ................................... n_neighbors=27, total=   0.0s\n",
            "[CV] n_neighbors=27 ..................................................\n",
            "[CV] ................................... n_neighbors=27, total=   0.0s\n",
            "[CV] n_neighbors=27 ..................................................\n",
            "[CV] ................................... n_neighbors=27, total=   0.0s\n",
            "[CV] n_neighbors=27 ..................................................\n",
            "[CV] ................................... n_neighbors=27, total=   0.0s\n",
            "[CV] n_neighbors=28 ..................................................\n",
            "[CV] ................................... n_neighbors=28, total=   0.0s\n",
            "[CV] n_neighbors=28 ..................................................\n",
            "[CV] ................................... n_neighbors=28, total=   0.0s\n",
            "[CV] n_neighbors=28 ..................................................\n",
            "[CV] ................................... n_neighbors=28, total=   0.0s\n",
            "[CV] n_neighbors=28 ..................................................\n",
            "[CV] ................................... n_neighbors=28, total=   0.0s\n",
            "[CV] n_neighbors=28 ..................................................\n",
            "[CV] ................................... n_neighbors=28, total=   0.0s\n",
            "[CV] n_neighbors=28 ..................................................\n",
            "[CV] ................................... n_neighbors=28, total=   0.0s\n",
            "[CV] n_neighbors=28 ..................................................\n",
            "[CV] ................................... n_neighbors=28, total=   0.0s\n",
            "[CV] n_neighbors=28 ..................................................\n",
            "[CV] ................................... n_neighbors=28, total=   0.0s\n",
            "[CV] n_neighbors=28 ..................................................\n",
            "[CV] ................................... n_neighbors=28, total=   0.0s\n",
            "[CV] n_neighbors=28 ..................................................\n",
            "[CV] ................................... n_neighbors=28, total=   0.0s\n",
            "[CV] n_neighbors=29 ..................................................\n",
            "[CV] ................................... n_neighbors=29, total=   0.0s\n",
            "[CV] n_neighbors=29 ..................................................\n",
            "[CV] ................................... n_neighbors=29, total=   0.0s\n",
            "[CV] n_neighbors=29 ..................................................\n",
            "[CV] ................................... n_neighbors=29, total=   0.0s\n",
            "[CV] n_neighbors=29 ..................................................\n",
            "[CV] ................................... n_neighbors=29, total=   0.0s\n",
            "[CV] n_neighbors=29 ..................................................\n",
            "[CV] ................................... n_neighbors=29, total=   0.0s\n",
            "[CV] n_neighbors=29 ..................................................\n",
            "[CV] ................................... n_neighbors=29, total=   0.0s\n",
            "[CV] n_neighbors=29 ..................................................\n",
            "[CV] ................................... n_neighbors=29, total=   0.0s\n",
            "[CV] n_neighbors=29 ..................................................\n",
            "[CV] ................................... n_neighbors=29, total=   0.0s\n",
            "[CV] n_neighbors=29 ..................................................\n",
            "[CV] ................................... n_neighbors=29, total=   0.0s\n",
            "[CV] n_neighbors=29 ..................................................\n",
            "[CV] ................................... n_neighbors=29, total=   0.0s\n",
            "[CV] n_neighbors=30 ..................................................\n",
            "[CV] ................................... n_neighbors=30, total=   0.0s\n",
            "[CV] n_neighbors=30 ..................................................\n",
            "[CV] ................................... n_neighbors=30, total=   0.0s\n",
            "[CV] n_neighbors=30 ..................................................\n",
            "[CV] ................................... n_neighbors=30, total=   0.0s\n",
            "[CV] n_neighbors=30 ..................................................\n",
            "[CV] ................................... n_neighbors=30, total=   0.0s\n",
            "[CV] n_neighbors=30 ..................................................\n",
            "[CV] ................................... n_neighbors=30, total=   0.0s\n",
            "[CV] n_neighbors=30 ..................................................\n",
            "[CV] ................................... n_neighbors=30, total=   0.0s\n",
            "[CV] n_neighbors=30 ..................................................\n",
            "[CV] ................................... n_neighbors=30, total=   0.0s\n",
            "[CV] n_neighbors=30 ..................................................\n",
            "[CV] ................................... n_neighbors=30, total=   0.0s\n",
            "[CV] n_neighbors=30 ..................................................\n",
            "[CV] ................................... n_neighbors=30, total=   0.0s\n",
            "[CV] n_neighbors=30 ..................................................\n",
            "[CV] ................................... n_neighbors=30, total=   0.0s\n",
            "[CV] n_neighbors=31 ..................................................\n",
            "[CV] ................................... n_neighbors=31, total=   0.0s\n",
            "[CV] n_neighbors=31 ..................................................\n",
            "[CV] ................................... n_neighbors=31, total=   0.0s\n",
            "[CV] n_neighbors=31 ..................................................\n",
            "[CV] ................................... n_neighbors=31, total=   0.0s\n",
            "[CV] n_neighbors=31 ..................................................\n",
            "[CV] ................................... n_neighbors=31, total=   0.0s\n",
            "[CV] n_neighbors=31 ..................................................\n",
            "[CV] ................................... n_neighbors=31, total=   0.0s\n",
            "[CV] n_neighbors=31 ..................................................\n",
            "[CV] ................................... n_neighbors=31, total=   0.0s\n",
            "[CV] n_neighbors=31 ..................................................\n",
            "[CV] ................................... n_neighbors=31, total=   0.0s\n",
            "[CV] n_neighbors=31 ..................................................\n",
            "[CV] ................................... n_neighbors=31, total=   0.0s\n",
            "[CV] n_neighbors=31 ..................................................\n",
            "[CV] ................................... n_neighbors=31, total=   0.0s\n",
            "[CV] n_neighbors=31 ..................................................\n",
            "[CV] ................................... n_neighbors=31, total=   0.0s\n",
            "[CV] n_neighbors=32 ..................................................\n",
            "[CV] ................................... n_neighbors=32, total=   0.0s\n",
            "[CV] n_neighbors=32 ..................................................\n",
            "[CV] ................................... n_neighbors=32, total=   0.0s\n",
            "[CV] n_neighbors=32 ..................................................\n",
            "[CV] ................................... n_neighbors=32, total=   0.0s\n",
            "[CV] n_neighbors=32 ..................................................\n",
            "[CV] ................................... n_neighbors=32, total=   0.0s\n",
            "[CV] n_neighbors=32 ..................................................\n",
            "[CV] ................................... n_neighbors=32, total=   0.0s\n",
            "[CV] n_neighbors=32 ..................................................\n",
            "[CV] ................................... n_neighbors=32, total=   0.0s\n",
            "[CV] n_neighbors=32 ..................................................\n",
            "[CV] ................................... n_neighbors=32, total=   0.0s\n",
            "[CV] n_neighbors=32 ..................................................\n",
            "[CV] ................................... n_neighbors=32, total=   0.0s\n",
            "[CV] n_neighbors=32 ..................................................\n",
            "[CV] ................................... n_neighbors=32, total=   0.0s\n",
            "[CV] n_neighbors=32 ..................................................\n",
            "[CV] ................................... n_neighbors=32, total=   0.0s\n",
            "[CV] n_neighbors=33 ..................................................\n",
            "[CV] ................................... n_neighbors=33, total=   0.0s\n",
            "[CV] n_neighbors=33 ..................................................\n",
            "[CV] ................................... n_neighbors=33, total=   0.0s\n",
            "[CV] n_neighbors=33 ..................................................\n",
            "[CV] ................................... n_neighbors=33, total=   0.0s\n",
            "[CV] n_neighbors=33 ..................................................\n",
            "[CV] ................................... n_neighbors=33, total=   0.0s\n",
            "[CV] n_neighbors=33 ..................................................\n",
            "[CV] ................................... n_neighbors=33, total=   0.0s\n",
            "[CV] n_neighbors=33 ..................................................\n",
            "[CV] ................................... n_neighbors=33, total=   0.0s\n",
            "[CV] n_neighbors=33 ..................................................\n",
            "[CV] ................................... n_neighbors=33, total=   0.0s\n",
            "[CV] n_neighbors=33 ..................................................\n",
            "[CV] ................................... n_neighbors=33, total=   0.0s\n",
            "[CV] n_neighbors=33 ..................................................\n",
            "[CV] ................................... n_neighbors=33, total=   0.0s\n",
            "[CV] n_neighbors=33 ..................................................\n",
            "[CV] ................................... n_neighbors=33, total=   0.0s\n",
            "[CV] n_neighbors=34 ..................................................\n",
            "[CV] ................................... n_neighbors=34, total=   0.0s\n",
            "[CV] n_neighbors=34 ..................................................\n",
            "[CV] ................................... n_neighbors=34, total=   0.0s\n",
            "[CV] n_neighbors=34 ..................................................\n",
            "[CV] ................................... n_neighbors=34, total=   0.0s\n",
            "[CV] n_neighbors=34 ..................................................\n",
            "[CV] ................................... n_neighbors=34, total=   0.0s\n",
            "[CV] n_neighbors=34 ..................................................\n",
            "[CV] ................................... n_neighbors=34, total=   0.0s\n",
            "[CV] n_neighbors=34 ..................................................\n",
            "[CV] ................................... n_neighbors=34, total=   0.0s\n",
            "[CV] n_neighbors=34 ..................................................\n",
            "[CV] ................................... n_neighbors=34, total=   0.0s\n",
            "[CV] n_neighbors=34 ..................................................\n",
            "[CV] ................................... n_neighbors=34, total=   0.0s\n",
            "[CV] n_neighbors=34 ..................................................\n",
            "[CV] ................................... n_neighbors=34, total=   0.0s\n",
            "[CV] n_neighbors=34 ..................................................\n",
            "[CV] ................................... n_neighbors=34, total=   0.0s\n",
            "[CV] n_neighbors=35 ..................................................\n",
            "[CV] ................................... n_neighbors=35, total=   0.0s\n",
            "[CV] n_neighbors=35 ..................................................\n",
            "[CV] ................................... n_neighbors=35, total=   0.0s\n",
            "[CV] n_neighbors=35 ..................................................\n",
            "[CV] ................................... n_neighbors=35, total=   0.0s\n",
            "[CV] n_neighbors=35 ..................................................\n",
            "[CV] ................................... n_neighbors=35, total=   0.0s\n",
            "[CV] n_neighbors=35 ..................................................\n",
            "[CV] ................................... n_neighbors=35, total=   0.0s\n",
            "[CV] n_neighbors=35 ..................................................\n",
            "[CV] ................................... n_neighbors=35, total=   0.0s\n",
            "[CV] n_neighbors=35 ..................................................\n",
            "[CV] ................................... n_neighbors=35, total=   0.0s\n",
            "[CV] n_neighbors=35 ..................................................\n",
            "[CV] ................................... n_neighbors=35, total=   0.0s\n",
            "[CV] n_neighbors=35 ..................................................\n",
            "[CV] ................................... n_neighbors=35, total=   0.0s\n",
            "[CV] n_neighbors=35 ..................................................\n",
            "[CV] ................................... n_neighbors=35, total=   0.0s\n",
            "[CV] n_neighbors=36 ..................................................\n",
            "[CV] ................................... n_neighbors=36, total=   0.0s\n",
            "[CV] n_neighbors=36 ..................................................\n",
            "[CV] ................................... n_neighbors=36, total=   0.0s\n",
            "[CV] n_neighbors=36 ..................................................\n",
            "[CV] ................................... n_neighbors=36, total=   0.0s\n",
            "[CV] n_neighbors=36 ..................................................\n",
            "[CV] ................................... n_neighbors=36, total=   0.0s\n",
            "[CV] n_neighbors=36 ..................................................\n",
            "[CV] ................................... n_neighbors=36, total=   0.0s\n",
            "[CV] n_neighbors=36 ..................................................\n",
            "[CV] ................................... n_neighbors=36, total=   0.0s\n",
            "[CV] n_neighbors=36 ..................................................\n",
            "[CV] ................................... n_neighbors=36, total=   0.0s\n",
            "[CV] n_neighbors=36 ..................................................\n",
            "[CV] ................................... n_neighbors=36, total=   0.0s\n",
            "[CV] n_neighbors=36 ..................................................\n",
            "[CV] ................................... n_neighbors=36, total=   0.0s\n",
            "[CV] n_neighbors=36 ..................................................\n",
            "[CV] ................................... n_neighbors=36, total=   0.0s\n",
            "[CV] n_neighbors=37 ..................................................\n",
            "[CV] ................................... n_neighbors=37, total=   0.0s\n",
            "[CV] n_neighbors=37 ..................................................\n",
            "[CV] ................................... n_neighbors=37, total=   0.0s\n",
            "[CV] n_neighbors=37 ..................................................\n",
            "[CV] ................................... n_neighbors=37, total=   0.0s\n",
            "[CV] n_neighbors=37 ..................................................\n",
            "[CV] ................................... n_neighbors=37, total=   0.0s\n",
            "[CV] n_neighbors=37 ..................................................\n",
            "[CV] ................................... n_neighbors=37, total=   0.0s\n",
            "[CV] n_neighbors=37 ..................................................\n",
            "[CV] ................................... n_neighbors=37, total=   0.0s\n",
            "[CV] n_neighbors=37 ..................................................\n",
            "[CV] ................................... n_neighbors=37, total=   0.0s\n",
            "[CV] n_neighbors=37 ..................................................\n",
            "[CV] ................................... n_neighbors=37, total=   0.0s\n",
            "[CV] n_neighbors=37 ..................................................\n",
            "[CV] ................................... n_neighbors=37, total=   0.0s\n",
            "[CV] n_neighbors=37 ..................................................\n",
            "[CV] ................................... n_neighbors=37, total=   0.0s\n",
            "[CV] n_neighbors=38 ..................................................\n",
            "[CV] ................................... n_neighbors=38, total=   0.0s\n",
            "[CV] n_neighbors=38 ..................................................\n",
            "[CV] ................................... n_neighbors=38, total=   0.0s\n",
            "[CV] n_neighbors=38 ..................................................\n",
            "[CV] ................................... n_neighbors=38, total=   0.0s\n",
            "[CV] n_neighbors=38 ..................................................\n",
            "[CV] ................................... n_neighbors=38, total=   0.0s\n",
            "[CV] n_neighbors=38 ..................................................\n",
            "[CV] ................................... n_neighbors=38, total=   0.0s\n",
            "[CV] n_neighbors=38 ..................................................\n",
            "[CV] ................................... n_neighbors=38, total=   0.0s\n",
            "[CV] n_neighbors=38 ..................................................\n",
            "[CV] ................................... n_neighbors=38, total=   0.0s\n",
            "[CV] n_neighbors=38 ..................................................\n",
            "[CV] ................................... n_neighbors=38, total=   0.0s\n",
            "[CV] n_neighbors=38 ..................................................\n",
            "[CV] ................................... n_neighbors=38, total=   0.0s\n",
            "[CV] n_neighbors=38 ..................................................\n",
            "[CV] ................................... n_neighbors=38, total=   0.0s\n",
            "[CV] n_neighbors=39 ..................................................\n",
            "[CV] ................................... n_neighbors=39, total=   0.0s\n",
            "[CV] n_neighbors=39 ..................................................\n",
            "[CV] ................................... n_neighbors=39, total=   0.0s\n",
            "[CV] n_neighbors=39 ..................................................\n",
            "[CV] ................................... n_neighbors=39, total=   0.0s\n",
            "[CV] n_neighbors=39 ..................................................\n",
            "[CV] ................................... n_neighbors=39, total=   0.0s\n",
            "[CV] n_neighbors=39 ..................................................\n",
            "[CV] ................................... n_neighbors=39, total=   0.0s\n",
            "[CV] n_neighbors=39 ..................................................\n",
            "[CV] ................................... n_neighbors=39, total=   0.0s\n",
            "[CV] n_neighbors=39 ..................................................\n",
            "[CV] ................................... n_neighbors=39, total=   0.0s\n",
            "[CV] n_neighbors=39 ..................................................\n",
            "[CV] ................................... n_neighbors=39, total=   0.0s\n",
            "[CV] n_neighbors=39 ..................................................\n",
            "[CV] ................................... n_neighbors=39, total=   0.0s\n",
            "[CV] n_neighbors=39 ..................................................\n",
            "[CV] ................................... n_neighbors=39, total=   0.0s\n",
            "[CV] n_neighbors=40 ..................................................\n",
            "[CV] ................................... n_neighbors=40, total=   0.0s\n",
            "[CV] n_neighbors=40 ..................................................\n",
            "[CV] ................................... n_neighbors=40, total=   0.0s\n",
            "[CV] n_neighbors=40 ..................................................\n",
            "[CV] ................................... n_neighbors=40, total=   0.0s\n",
            "[CV] n_neighbors=40 ..................................................\n",
            "[CV] ................................... n_neighbors=40, total=   0.0s\n",
            "[CV] n_neighbors=40 ..................................................\n",
            "[CV] ................................... n_neighbors=40, total=   0.0s\n",
            "[CV] n_neighbors=40 ..................................................\n",
            "[CV] ................................... n_neighbors=40, total=   0.0s\n",
            "[CV] n_neighbors=40 ..................................................\n",
            "[CV] ................................... n_neighbors=40, total=   0.0s\n",
            "[CV] n_neighbors=40 ..................................................\n",
            "[CV] ................................... n_neighbors=40, total=   0.0s\n",
            "[CV] n_neighbors=40 ..................................................\n",
            "[CV] ................................... n_neighbors=40, total=   0.0s\n",
            "[CV] n_neighbors=40 ..................................................\n",
            "[CV] ................................... n_neighbors=40, total=   0.0s\n",
            "[CV] n_neighbors=41 ..................................................\n",
            "[CV] ................................... n_neighbors=41, total=   0.0s\n",
            "[CV] n_neighbors=41 ..................................................\n",
            "[CV] ................................... n_neighbors=41, total=   0.0s\n",
            "[CV] n_neighbors=41 ..................................................\n",
            "[CV] ................................... n_neighbors=41, total=   0.0s\n",
            "[CV] n_neighbors=41 ..................................................\n",
            "[CV] ................................... n_neighbors=41, total=   0.0s\n",
            "[CV] n_neighbors=41 ..................................................\n",
            "[CV] ................................... n_neighbors=41, total=   0.0s\n",
            "[CV] n_neighbors=41 ..................................................\n",
            "[CV] ................................... n_neighbors=41, total=   0.0s\n",
            "[CV] n_neighbors=41 ..................................................\n",
            "[CV] ................................... n_neighbors=41, total=   0.0s\n",
            "[CV] n_neighbors=41 ..................................................\n",
            "[CV] ................................... n_neighbors=41, total=   0.0s\n",
            "[CV] n_neighbors=41 ..................................................\n",
            "[CV] ................................... n_neighbors=41, total=   0.0s\n",
            "[CV] n_neighbors=41 ..................................................\n",
            "[CV] ................................... n_neighbors=41, total=   0.0s\n",
            "[CV] n_neighbors=42 ..................................................\n",
            "[CV] ................................... n_neighbors=42, total=   0.0s\n",
            "[CV] n_neighbors=42 ..................................................\n",
            "[CV] ................................... n_neighbors=42, total=   0.0s\n",
            "[CV] n_neighbors=42 ..................................................\n",
            "[CV] ................................... n_neighbors=42, total=   0.0s\n",
            "[CV] n_neighbors=42 ..................................................\n",
            "[CV] ................................... n_neighbors=42, total=   0.0s\n",
            "[CV] n_neighbors=42 ..................................................\n",
            "[CV] ................................... n_neighbors=42, total=   0.0s\n",
            "[CV] n_neighbors=42 ..................................................\n",
            "[CV] ................................... n_neighbors=42, total=   0.0s\n",
            "[CV] n_neighbors=42 ..................................................\n",
            "[CV] ................................... n_neighbors=42, total=   0.0s\n",
            "[CV] n_neighbors=42 ..................................................\n",
            "[CV] ................................... n_neighbors=42, total=   0.0s\n",
            "[CV] n_neighbors=42 ..................................................\n",
            "[CV] ................................... n_neighbors=42, total=   0.0s\n",
            "[CV] n_neighbors=42 ..................................................\n",
            "[CV] ................................... n_neighbors=42, total=   0.0s\n",
            "[CV] n_neighbors=43 ..................................................\n",
            "[CV] ................................... n_neighbors=43, total=   0.0s\n",
            "[CV] n_neighbors=43 ..................................................\n",
            "[CV] ................................... n_neighbors=43, total=   0.0s\n",
            "[CV] n_neighbors=43 ..................................................\n",
            "[CV] ................................... n_neighbors=43, total=   0.0s\n",
            "[CV] n_neighbors=43 ..................................................\n",
            "[CV] ................................... n_neighbors=43, total=   0.0s\n",
            "[CV] n_neighbors=43 ..................................................\n",
            "[CV] ................................... n_neighbors=43, total=   0.0s\n",
            "[CV] n_neighbors=43 ..................................................\n",
            "[CV] ................................... n_neighbors=43, total=   0.0s\n",
            "[CV] n_neighbors=43 ..................................................\n",
            "[CV] ................................... n_neighbors=43, total=   0.0s\n",
            "[CV] n_neighbors=43 ..................................................\n",
            "[CV] ................................... n_neighbors=43, total=   0.0s\n",
            "[CV] n_neighbors=43 ..................................................\n",
            "[CV] ................................... n_neighbors=43, total=   0.0s\n",
            "[CV] n_neighbors=43 ..................................................\n",
            "[CV] ................................... n_neighbors=43, total=   0.0s\n",
            "[CV] n_neighbors=44 ..................................................\n",
            "[CV] ................................... n_neighbors=44, total=   0.0s\n",
            "[CV] n_neighbors=44 ..................................................\n",
            "[CV] ................................... n_neighbors=44, total=   0.0s\n",
            "[CV] n_neighbors=44 ..................................................\n",
            "[CV] ................................... n_neighbors=44, total=   0.0s\n",
            "[CV] n_neighbors=44 ..................................................\n",
            "[CV] ................................... n_neighbors=44, total=   0.0s\n",
            "[CV] n_neighbors=44 ..................................................\n",
            "[CV] ................................... n_neighbors=44, total=   0.0s\n",
            "[CV] n_neighbors=44 ..................................................\n",
            "[CV] ................................... n_neighbors=44, total=   0.0s\n",
            "[CV] n_neighbors=44 ..................................................\n",
            "[CV] ................................... n_neighbors=44, total=   0.0s\n",
            "[CV] n_neighbors=44 ..................................................\n",
            "[CV] ................................... n_neighbors=44, total=   0.0s\n",
            "[CV] n_neighbors=44 ..................................................\n",
            "[CV] ................................... n_neighbors=44, total=   0.0s\n",
            "[CV] n_neighbors=44 ..................................................\n",
            "[CV] ................................... n_neighbors=44, total=   0.0s\n",
            "[CV] n_neighbors=45 ..................................................\n",
            "[CV] ................................... n_neighbors=45, total=   0.0s\n",
            "[CV] n_neighbors=45 ..................................................\n",
            "[CV] ................................... n_neighbors=45, total=   0.0s\n",
            "[CV] n_neighbors=45 ..................................................\n",
            "[CV] ................................... n_neighbors=45, total=   0.0s\n",
            "[CV] n_neighbors=45 ..................................................\n",
            "[CV] ................................... n_neighbors=45, total=   0.0s\n",
            "[CV] n_neighbors=45 ..................................................\n",
            "[CV] ................................... n_neighbors=45, total=   0.0s\n",
            "[CV] n_neighbors=45 ..................................................\n",
            "[CV] ................................... n_neighbors=45, total=   0.0s\n",
            "[CV] n_neighbors=45 ..................................................\n",
            "[CV] ................................... n_neighbors=45, total=   0.0s\n",
            "[CV] n_neighbors=45 ..................................................\n",
            "[CV] ................................... n_neighbors=45, total=   0.0s\n",
            "[CV] n_neighbors=45 ..................................................\n",
            "[CV] ................................... n_neighbors=45, total=   0.0s\n",
            "[CV] n_neighbors=45 ..................................................\n",
            "[CV] ................................... n_neighbors=45, total=   0.0s\n",
            "[CV] n_neighbors=46 ..................................................\n",
            "[CV] ................................... n_neighbors=46, total=   0.0s\n",
            "[CV] n_neighbors=46 ..................................................\n",
            "[CV] ................................... n_neighbors=46, total=   0.0s\n",
            "[CV] n_neighbors=46 ..................................................\n",
            "[CV] ................................... n_neighbors=46, total=   0.0s\n",
            "[CV] n_neighbors=46 ..................................................\n",
            "[CV] ................................... n_neighbors=46, total=   0.0s\n",
            "[CV] n_neighbors=46 ..................................................\n",
            "[CV] ................................... n_neighbors=46, total=   0.0s\n",
            "[CV] n_neighbors=46 ..................................................\n",
            "[CV] ................................... n_neighbors=46, total=   0.0s\n",
            "[CV] n_neighbors=46 ..................................................\n",
            "[CV] ................................... n_neighbors=46, total=   0.0s\n",
            "[CV] n_neighbors=46 ..................................................\n",
            "[CV] ................................... n_neighbors=46, total=   0.0s\n",
            "[CV] n_neighbors=46 ..................................................\n",
            "[CV] ................................... n_neighbors=46, total=   0.0s\n",
            "[CV] n_neighbors=46 ..................................................\n",
            "[CV] ................................... n_neighbors=46, total=   0.0s\n",
            "[CV] n_neighbors=47 ..................................................\n",
            "[CV] ................................... n_neighbors=47, total=   0.0s\n",
            "[CV] n_neighbors=47 ..................................................\n",
            "[CV] ................................... n_neighbors=47, total=   0.0s\n",
            "[CV] n_neighbors=47 ..................................................\n",
            "[CV] ................................... n_neighbors=47, total=   0.0s\n",
            "[CV] n_neighbors=47 ..................................................\n",
            "[CV] ................................... n_neighbors=47, total=   0.0s\n",
            "[CV] n_neighbors=47 ..................................................\n",
            "[CV] ................................... n_neighbors=47, total=   0.0s\n",
            "[CV] n_neighbors=47 ..................................................\n",
            "[CV] ................................... n_neighbors=47, total=   0.0s\n",
            "[CV] n_neighbors=47 ..................................................\n",
            "[CV] ................................... n_neighbors=47, total=   0.0s\n",
            "[CV] n_neighbors=47 ..................................................\n",
            "[CV] ................................... n_neighbors=47, total=   0.0s\n",
            "[CV] n_neighbors=47 ..................................................\n",
            "[CV] ................................... n_neighbors=47, total=   0.0s\n",
            "[CV] n_neighbors=47 ..................................................\n",
            "[CV] ................................... n_neighbors=47, total=   0.0s\n",
            "[CV] n_neighbors=48 ..................................................\n",
            "[CV] ................................... n_neighbors=48, total=   0.0s\n",
            "[CV] n_neighbors=48 ..................................................\n",
            "[CV] ................................... n_neighbors=48, total=   0.0s\n",
            "[CV] n_neighbors=48 ..................................................\n",
            "[CV] ................................... n_neighbors=48, total=   0.0s\n",
            "[CV] n_neighbors=48 ..................................................\n",
            "[CV] ................................... n_neighbors=48, total=   0.0s\n",
            "[CV] n_neighbors=48 ..................................................\n",
            "[CV] ................................... n_neighbors=48, total=   0.0s\n",
            "[CV] n_neighbors=48 ..................................................\n",
            "[CV] ................................... n_neighbors=48, total=   0.0s\n",
            "[CV] n_neighbors=48 ..................................................\n",
            "[CV] ................................... n_neighbors=48, total=   0.0s\n",
            "[CV] n_neighbors=48 ..................................................\n",
            "[CV] ................................... n_neighbors=48, total=   0.0s\n",
            "[CV] n_neighbors=48 ..................................................\n",
            "[CV] ................................... n_neighbors=48, total=   0.0s\n",
            "[CV] n_neighbors=48 ..................................................\n",
            "[CV] ................................... n_neighbors=48, total=   0.0s\n",
            "[CV] n_neighbors=49 ..................................................\n",
            "[CV] ................................... n_neighbors=49, total=   0.0s\n",
            "[CV] n_neighbors=49 ..................................................\n",
            "[CV] ................................... n_neighbors=49, total=   0.0s\n",
            "[CV] n_neighbors=49 ..................................................\n",
            "[CV] ................................... n_neighbors=49, total=   0.0s\n",
            "[CV] n_neighbors=49 ..................................................\n",
            "[CV] ................................... n_neighbors=49, total=   0.0s\n",
            "[CV] n_neighbors=49 ..................................................\n",
            "[CV] ................................... n_neighbors=49, total=   0.0s\n",
            "[CV] n_neighbors=49 ..................................................\n",
            "[CV] ................................... n_neighbors=49, total=   0.0s\n",
            "[CV] n_neighbors=49 ..................................................\n",
            "[CV] ................................... n_neighbors=49, total=   0.0s\n",
            "[CV] n_neighbors=49 ..................................................\n",
            "[CV] ................................... n_neighbors=49, total=   0.0s\n",
            "[CV] n_neighbors=49 ..................................................\n",
            "[CV] ................................... n_neighbors=49, total=   0.0s\n",
            "[CV] n_neighbors=49 ..................................................\n",
            "[CV] ................................... n_neighbors=49, total=   0.0s\n"
          ],
          "name": "stdout"
        },
        {
          "output_type": "stream",
          "text": [
            "[Parallel(n_jobs=1)]: Done 490 out of 490 | elapsed:    3.2s finished\n"
          ],
          "name": "stderr"
        },
        {
          "output_type": "execute_result",
          "data": {
            "text/plain": [
              "GridSearchCV(cv=10, error_score=nan,\n",
              "             estimator=KNeighborsClassifier(algorithm='auto', leaf_size=30,\n",
              "                                            metric='minkowski',\n",
              "                                            metric_params=None, n_jobs=None,\n",
              "                                            n_neighbors=5, p=2,\n",
              "                                            weights='uniform'),\n",
              "             iid='deprecated', n_jobs=None,\n",
              "             param_grid={'n_neighbors': array([ 1,  2,  3,  4,  5,  6,  7,  8,  9, 10, 11, 12, 13, 14, 15, 16, 17,\n",
              "       18, 19, 20, 21, 22, 23, 24, 25, 26, 27, 28, 29, 30, 31, 32, 33, 34,\n",
              "       35, 36, 37, 38, 39, 40, 41, 42, 43, 44, 45, 46, 47, 48, 49])},\n",
              "             pre_dispatch='2*n_jobs', refit=True, return_train_score=False,\n",
              "             scoring=None, verbose=2)"
            ]
          },
          "metadata": {
            "tags": []
          },
          "execution_count": 24
        }
      ]
    },
    {
      "cell_type": "markdown",
      "metadata": {
        "id": "JbQthf-Nmpq1"
      },
      "source": [
        "- **n_neighbors** parametresine vermiş olduğumuz değerleri deneyerek modelimiz için en iyi , optimum değere bakalım"
      ]
    },
    {
      "cell_type": "code",
      "metadata": {
        "colab": {
          "base_uri": "https://localhost:8080/"
        },
        "id": "ZPxweRyjm4Dt",
        "outputId": "2977b171-b5d8-42aa-8a1a-7a6be690d25b"
      },
      "source": [
        "knn_cv.best_params_"
      ],
      "execution_count": 25,
      "outputs": [
        {
          "output_type": "execute_result",
          "data": {
            "text/plain": [
              "{'n_neighbors': 17}"
            ]
          },
          "metadata": {
            "tags": []
          },
          "execution_count": 25
        }
      ]
    },
    {
      "cell_type": "markdown",
      "metadata": {
        "id": "dw1OcQ4Qnl7X"
      },
      "source": [
        "- Modelimiz için en iyi, optimum n_neighbors parametresi değeri 17'ymiş.\r\n",
        "- Şimdi bu değeri kullanarak yeni bir KNN modeli oluşturacağız"
      ]
    },
    {
      "cell_type": "code",
      "metadata": {
        "id": "l23WhBnBn1ub"
      },
      "source": [
        "knn_tuned = KNeighborsClassifier(n_neighbors=17)"
      ],
      "execution_count": 26,
      "outputs": []
    },
    {
      "cell_type": "markdown",
      "metadata": {
        "id": "btSuCaZXoAB2"
      },
      "source": [
        "- En iyi , optimum n_neighbors parametre değeri ile yeniden oluşturacağımız modelimizi fit edip,oluşturuyoruz"
      ]
    },
    {
      "cell_type": "code",
      "metadata": {
        "colab": {
          "base_uri": "https://localhost:8080/"
        },
        "id": "Wcpb4OqsoLXs",
        "outputId": "381a92b9-7d98-4fd9-88bf-df386bd95af8"
      },
      "source": [
        "knn_tuned.fit(x_train_scaled,y_train)"
      ],
      "execution_count": 27,
      "outputs": [
        {
          "output_type": "execute_result",
          "data": {
            "text/plain": [
              "KNeighborsClassifier(algorithm='auto', leaf_size=30, metric='minkowski',\n",
              "                     metric_params=None, n_jobs=None, n_neighbors=17, p=2,\n",
              "                     weights='uniform')"
            ]
          },
          "metadata": {
            "tags": []
          },
          "execution_count": 27
        }
      ]
    },
    {
      "cell_type": "markdown",
      "metadata": {
        "id": "7EHNp07mocql"
      },
      "source": [
        "- Yeni KNN modelimiz ile yeni tahmin değerleri oluşturalım"
      ]
    },
    {
      "cell_type": "code",
      "metadata": {
        "id": "syJWkOfLok_6"
      },
      "source": [
        "y_pred_tuned = knn_tuned.predict(x_test_scaled)"
      ],
      "execution_count": 28,
      "outputs": []
    },
    {
      "cell_type": "markdown",
      "metadata": {
        "id": "gtQQ_nYDo9na"
      },
      "source": [
        "- Yeni KNN modelimizin doğruluk oranına bakalım"
      ]
    },
    {
      "cell_type": "code",
      "metadata": {
        "colab": {
          "base_uri": "https://localhost:8080/"
        },
        "id": "D2SNj2eHpCqG",
        "outputId": "9ad32b81-1c31-40ef-ffb9-e23e78b3f0ef"
      },
      "source": [
        "from sklearn.metrics import accuracy_score\r\n",
        "\r\n",
        "accuracy_score(y_pred_tuned,y_test)"
      ],
      "execution_count": 29,
      "outputs": [
        {
          "output_type": "execute_result",
          "data": {
            "text/plain": [
              "0.8279569892473119"
            ]
          },
          "metadata": {
            "tags": []
          },
          "execution_count": 29
        }
      ]
    },
    {
      "cell_type": "markdown",
      "metadata": {
        "id": "qfpe6bHhpMPk"
      },
      "source": [
        "- Yeni modelimizi confusin_matrix ile değerlendirelim"
      ]
    },
    {
      "cell_type": "code",
      "metadata": {
        "colab": {
          "base_uri": "https://localhost:8080/",
          "height": 265
        },
        "id": "xcrh4wimpRqP",
        "outputId": "2b132f4d-ff96-491a-b7d6-39697a060f42"
      },
      "source": [
        "from sklearn.metrics import confusion_matrix\r\n",
        "import seaborn as sns \r\n",
        "\r\n",
        "cm_tuned = confusion_matrix(y_pred_tuned,y_test)\r\n",
        "sns.heatmap(cm_tuned,annot=True);"
      ],
      "execution_count": 30,
      "outputs": [
        {
          "output_type": "display_data",
          "data": {
            "image/png": "[encoded data removed]",
            "text/plain": [
              "<Figure size 432x288 with 2 Axes>"
            ]
          },
          "metadata": {
            "tags": [],
            "needs_background": "light"
          }
        }
      ]
    },
    {
      "cell_type": "code",
      "metadata": {
        "colab": {
          "base_uri": "https://localhost:8080/"
        },
        "id": "hcKy3vYypv3v",
        "outputId": "7a7eb5a9-82c0-4935-89f0-8ddf31e0ffc1"
      },
      "source": [
        "modeller = [knn_model,knn_tuned]\r\n",
        "for model in modeller:\r\n",
        "  print(\"-\"*25)\r\n",
        "  acc = accuracy_score(y_test,model.predict(x_test_scaled))\r\n",
        "  print(\"Model : {}\\nAccuracy : {}\".format(model,acc))"
      ],
      "execution_count": 31,
      "outputs": [
        {
          "output_type": "stream",
          "text": [
            "-------------------------\n",
            "Model : KNeighborsClassifier(algorithm='auto', leaf_size=30, metric='minkowski',\n",
            "                     metric_params=None, n_jobs=None, n_neighbors=5, p=2,\n",
            "                     weights='uniform')\n",
            "Accuracy : 0.7741935483870968\n",
            "-------------------------\n",
            "Model : KNeighborsClassifier(algorithm='auto', leaf_size=30, metric='minkowski',\n",
            "                     metric_params=None, n_jobs=None, n_neighbors=17, p=2,\n",
            "                     weights='uniform')\n",
            "Accuracy : 0.8279569892473119\n"
          ],
          "name": "stdout"
        }
      ]
    },
    {
      "cell_type": "markdown",
      "metadata": {
        "id": "KpR6YZ_1hT8k"
      },
      "source": [
        "- Optimum k değerini grafik yöntemi ile bulalım \r\n",
        "- Aşağıda ki grafikten de anlaşılacağı üzere en yüksek accuracy_score yani doğruluk oranına sahip k değeri 20'ye yakın 17-18 o aralarda olduğunu görüyoruz"
      ]
    },
    {
      "cell_type": "code",
      "metadata": {
        "colab": {
          "base_uri": "https://localhost:8080/",
          "height": 280
        },
        "id": "sbJdNxrb9s-Y",
        "outputId": "3b6bd861-d1f0-4d6e-f083-982d976dcd64"
      },
      "source": [
        "import matplotlib.pyplot as plt\r\n",
        "\r\n",
        "k = np.arange(1,50)\r\n",
        "score = []\r\n",
        "\r\n",
        "for i in range(1,50):\r\n",
        "  model = KNeighborsClassifier(n_neighbors=i)\r\n",
        "  model.fit(x_train_scaled,y_train)\r\n",
        "  y_pred_mod = model.predict(x_test_scaled)\r\n",
        "  score.append(accuracy_score(y_pred_mod,y_test))\r\n",
        "plt.plot(k,score,'r--')\r\n",
        "plt.xlabel(\"k Değerleri\")\r\n",
        "plt.ylabel(\"Accuracy Değerleri\");"
      ],
      "execution_count": 70,
      "outputs": [
        {
          "output_type": "display_data",
          "data": {
            "image/png": "[encoded data removed]",
            "text/plain": [
              "<Figure size 432x288 with 1 Axes>"
            ]
          },
          "metadata": {
            "tags": [],
            "needs_background": "light"
          }
        }
      ]
    },
    {
      "cell_type": "markdown",
      "metadata": {
        "id": "TpreII5WCotn"
      },
      "source": [
        "- Score değerleri, bizim doğruluk oranlarımızın yani accuracy_score değerlerimizin olduğu listemizdi.\r\n",
        "- En yüksek score değerine sahip k değerinin 17 olduğunu da bu şekilde görebiliriz"
      ]
    },
    {
      "cell_type": "code",
      "metadata": {
        "colab": {
          "base_uri": "https://localhost:8080/"
        },
        "id": "Aga3yq1XB5Q4",
        "outputId": "3ebf2d95-0f4e-44a6-f2f9-6cee767e5c38"
      },
      "source": [
        "print(\"En yüksek değeri veren k değeri :\" + str(np.argmax(score)))\r\n",
        "print(\"En yüksek accuracy_score :\" + str(np.max(score)))"
      ],
      "execution_count": 73,
      "outputs": [
        {
          "output_type": "stream",
          "text": [
            "En yüksek değeri veren k değeri :17\n",
            "En yüksek accuracy_score :0.8602150537634409\n"
          ],
          "name": "stdout"
        }
      ]
    },
    {
      "cell_type": "markdown",
      "metadata": {
        "id": "H3OhfYp9Do5Y"
      },
      "source": [
        "# Support Vector Machine "
      ]
    },
    {
      "cell_type": "code",
      "metadata": {
        "id": "SNmBusUIDsmc"
      },
      "source": [
        "from sklearn.svm import SVC\r\n",
        "\r\n",
        "svc = SVC(kernel='linear')"
      ],
      "execution_count": null,
      "outputs": []
    },
    {
      "cell_type": "markdown",
      "metadata": {
        "id": "eNf9KPr5FtI7"
      },
      "source": [
        "- Modelimizi fit edip, oluşturuyoruz"
      ]
    },
    {
      "cell_type": "code",
      "metadata": {
        "colab": {
          "base_uri": "https://localhost:8080/"
        },
        "id": "iiUCcDlOFwCQ",
        "outputId": "b135dc4f-8c18-456e-a745-c2dbaf766bda"
      },
      "source": [
        "svc.fit(x_train,y_train)"
      ],
      "execution_count": null,
      "outputs": [
        {
          "output_type": "execute_result",
          "data": {
            "text/plain": [
              "SVC(C=1.0, break_ties=False, cache_size=200, class_weight=None, coef0=0.0,\n",
              "    decision_function_shape='ovr', degree=3, gamma='scale', kernel='linear',\n",
              "    max_iter=-1, probability=False, random_state=None, shrinking=True,\n",
              "    tol=0.001, verbose=False)"
            ]
          },
          "metadata": {
            "tags": []
          },
          "execution_count": 24
        }
      ]
    },
    {
      "cell_type": "markdown",
      "metadata": {
        "id": "mumSpKlmHTRG"
      },
      "source": [
        "- Modelimiz ile tahmin değerleri oluşturalım"
      ]
    },
    {
      "cell_type": "code",
      "metadata": {
        "id": "y99Pm-BDHYA1"
      },
      "source": [
        "y_pred = svc.predict(x_test) "
      ],
      "execution_count": null,
      "outputs": []
    },
    {
      "cell_type": "markdown",
      "metadata": {
        "id": "jSu0SWhnHi_P"
      },
      "source": [
        "- Modelimizin doğruluk oranına bakalım"
      ]
    },
    {
      "cell_type": "code",
      "metadata": {
        "colab": {
          "base_uri": "https://localhost:8080/"
        },
        "id": "TY7YN-8YHnIZ",
        "outputId": "d2558125-0709-4cb4-8410-306821da8f40"
      },
      "source": [
        "from sklearn.metrics import accuracy_score\r\n",
        "\r\n",
        "accuracy_score(y_test,y_pred)"
      ],
      "execution_count": null,
      "outputs": [
        {
          "output_type": "execute_result",
          "data": {
            "text/plain": [
              "0.8172043010752689"
            ]
          },
          "metadata": {
            "tags": []
          },
          "execution_count": 26
        }
      ]
    },
    {
      "cell_type": "markdown",
      "metadata": {
        "id": "rj8j_wOWgbHD"
      },
      "source": [
        "- .score() metodu ile doğruluk oranının değeri aynıdır"
      ]
    },
    {
      "cell_type": "code",
      "metadata": {
        "colab": {
          "base_uri": "https://localhost:8080/"
        },
        "id": "71_pb11NIWc2",
        "outputId": "ac6e582a-8488-463a-a4a0-203df721b898"
      },
      "source": [
        "svc.score(x_test,y_test)"
      ],
      "execution_count": null,
      "outputs": [
        {
          "output_type": "execute_result",
          "data": {
            "text/plain": [
              "0.8172043010752689"
            ]
          },
          "metadata": {
            "tags": []
          },
          "execution_count": 27
        }
      ]
    },
    {
      "cell_type": "markdown",
      "metadata": {
        "id": "KL48dlyagtU1"
      },
      "source": [
        "- confusion matrix ile model tahmin sonuçlarını değerlendirelim"
      ]
    },
    {
      "cell_type": "code",
      "metadata": {
        "id": "qkeBijYqg1EF"
      },
      "source": [
        "from sklearn.metrics import confusion_matrix\r\n",
        "\r\n",
        "cm = confusion_matrix(y_test,y_pred)"
      ],
      "execution_count": null,
      "outputs": []
    }
  ]
}